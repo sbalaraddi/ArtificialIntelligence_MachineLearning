{
 "cells": [
  {
   "cell_type": "markdown",
   "id": "8b77ec18-d1e8-43a4-86c0-2d7ec0a87765",
   "metadata": {},
   "source": [
    "## Why NumPy?\n",
    "\n",
    "# 1. It's fast\n",
    "# 2. Behind the scenes optimizations written in C\n",
    "# 3. Vectorization via broadcasting (avoiding loops)\n",
    "# 4. Backbone of the other Python Scientifif packages"
   ]
  },
  {
   "cell_type": "code",
   "execution_count": 1,
   "id": "927db7f2-ff4f-4fc6-aeb4-30635512e045",
   "metadata": {},
   "outputs": [],
   "source": [
    "import numpy as np"
   ]
  },
  {
   "cell_type": "markdown",
   "id": "8d6feabc-7383-4794-9438-21713fd81e64",
   "metadata": {},
   "source": [
    "## DataTypes & Attributes"
   ]
  },
  {
   "cell_type": "code",
   "execution_count": 2,
   "id": "0ceed0ab-93f7-40dc-a9e9-f6141d332358",
   "metadata": {},
   "outputs": [
    {
     "data": {
      "text/plain": [
       "array([1.1, 2. , 3. ])"
      ]
     },
     "execution_count": 2,
     "metadata": {},
     "output_type": "execute_result"
    }
   ],
   "source": [
    "# NumPy has a main datatyoe that is ndarray\n",
    "a1 = np.array([1.1, 2, 3])\n",
    "a1"
   ]
  },
  {
   "cell_type": "code",
   "execution_count": 3,
   "id": "cc670b6c-d342-460d-b501-d603b8d84a17",
   "metadata": {},
   "outputs": [
    {
     "data": {
      "text/plain": [
       "numpy.ndarray"
      ]
     },
     "execution_count": 3,
     "metadata": {},
     "output_type": "execute_result"
    }
   ],
   "source": [
    "type(a1)"
   ]
  },
  {
   "cell_type": "code",
   "execution_count": 4,
   "id": "594b9ba5-5a7f-4fb4-87a6-87746dccb52a",
   "metadata": {},
   "outputs": [
    {
     "data": {
      "text/plain": [
       "array([[1, 2, 3],\n",
       "       [7, 8, 9]])"
      ]
     },
     "execution_count": 4,
     "metadata": {},
     "output_type": "execute_result"
    }
   ],
   "source": [
    "a2 = np.array([[1, 2, 3],\n",
    "           \n",
    "             [7,8,9]])\n",
    "a2"
   ]
  },
  {
   "cell_type": "code",
   "execution_count": 5,
   "id": "b1b54b50-7e1a-4295-a30a-8d53f27d0af9",
   "metadata": {},
   "outputs": [
    {
     "data": {
      "text/plain": [
       "array([[[ 1,  2,  3],\n",
       "        [ 4,  5,  6],\n",
       "        [ 7,  8,  9]],\n",
       "\n",
       "       [[11, 12, 13],\n",
       "        [14, 15, 16],\n",
       "        [17, 18, 19]]])"
      ]
     },
     "execution_count": 5,
     "metadata": {},
     "output_type": "execute_result"
    }
   ],
   "source": [
    "a3 = np.array([\n",
    "               [\n",
    "                [1,2,3],\n",
    "                [4,5,6],\n",
    "                 [7,8,9]\n",
    "                        ],\n",
    "              [ \n",
    "                [11,12,13],\n",
    "                [14,15,16],\n",
    "                [17,18,19]\n",
    "              ]\n",
    "            ])\n",
    "a3"
   ]
  },
  {
   "cell_type": "code",
   "execution_count": 6,
   "id": "b2b03a55-6c46-48aa-b1d3-9fc202f64c24",
   "metadata": {},
   "outputs": [
    {
     "data": {
      "text/plain": [
       "(3,)"
      ]
     },
     "execution_count": 6,
     "metadata": {},
     "output_type": "execute_result"
    }
   ],
   "source": [
    "a1.shape"
   ]
  },
  {
   "cell_type": "code",
   "execution_count": 7,
   "id": "8dd3bb03-696d-4c9b-b092-fe1632e795c4",
   "metadata": {},
   "outputs": [
    {
     "data": {
      "text/plain": [
       "(2, 3)"
      ]
     },
     "execution_count": 7,
     "metadata": {},
     "output_type": "execute_result"
    }
   ],
   "source": [
    "a2.shape"
   ]
  },
  {
   "cell_type": "code",
   "execution_count": 8,
   "id": "836c7055-0eef-41fb-9cde-468e49b42905",
   "metadata": {},
   "outputs": [
    {
     "data": {
      "text/plain": [
       "(2, 3, 3)"
      ]
     },
     "execution_count": 8,
     "metadata": {},
     "output_type": "execute_result"
    }
   ],
   "source": [
    "a3.shape"
   ]
  },
  {
   "cell_type": "code",
   "execution_count": 9,
   "id": "3b6590d7-c100-4f12-9692-b4859fe15da0",
   "metadata": {},
   "outputs": [
    {
     "data": {
      "text/plain": [
       "(1, 2, 3)"
      ]
     },
     "execution_count": 9,
     "metadata": {},
     "output_type": "execute_result"
    }
   ],
   "source": [
    "a1.ndim, a2.ndim, a3.ndim"
   ]
  },
  {
   "cell_type": "code",
   "execution_count": 10,
   "id": "24d0e963-9292-4354-a502-572733c82f0a",
   "metadata": {},
   "outputs": [
    {
     "data": {
      "text/plain": [
       "(dtype('float64'), dtype('int32'), dtype('int32'))"
      ]
     },
     "execution_count": 10,
     "metadata": {},
     "output_type": "execute_result"
    }
   ],
   "source": [
    "a1.dtype , a2.dtype, a3.dtype"
   ]
  },
  {
   "cell_type": "code",
   "execution_count": 11,
   "id": "a2989f79-3cfd-47d5-99ed-f14c49ed6320",
   "metadata": {},
   "outputs": [
    {
     "data": {
      "text/plain": [
       "(3, 6, 18)"
      ]
     },
     "execution_count": 11,
     "metadata": {},
     "output_type": "execute_result"
    }
   ],
   "source": [
    "a1.size, a2.size, a3.size"
   ]
  },
  {
   "cell_type": "code",
   "execution_count": 12,
   "id": "f47530bc-2841-4d23-b55e-82e41263a8fe",
   "metadata": {},
   "outputs": [
    {
     "data": {
      "text/plain": [
       "(numpy.ndarray, numpy.ndarray, numpy.ndarray)"
      ]
     },
     "execution_count": 12,
     "metadata": {},
     "output_type": "execute_result"
    }
   ],
   "source": [
    "type(a1), type(a2), type(a3)"
   ]
  },
  {
   "cell_type": "code",
   "execution_count": 13,
   "id": "3f671c46-2065-415c-8272-bcb6d9b54997",
   "metadata": {},
   "outputs": [
    {
     "data": {
      "text/html": [
       "<div>\n",
       "<style scoped>\n",
       "    .dataframe tbody tr th:only-of-type {\n",
       "        vertical-align: middle;\n",
       "    }\n",
       "\n",
       "    .dataframe tbody tr th {\n",
       "        vertical-align: top;\n",
       "    }\n",
       "\n",
       "    .dataframe thead th {\n",
       "        text-align: right;\n",
       "    }\n",
       "</style>\n",
       "<table border=\"1\" class=\"dataframe\">\n",
       "  <thead>\n",
       "    <tr style=\"text-align: right;\">\n",
       "      <th></th>\n",
       "      <th>0</th>\n",
       "      <th>1</th>\n",
       "      <th>2</th>\n",
       "    </tr>\n",
       "  </thead>\n",
       "  <tbody>\n",
       "    <tr>\n",
       "      <th>0</th>\n",
       "      <td>1</td>\n",
       "      <td>2</td>\n",
       "      <td>3</td>\n",
       "    </tr>\n",
       "    <tr>\n",
       "      <th>1</th>\n",
       "      <td>7</td>\n",
       "      <td>8</td>\n",
       "      <td>9</td>\n",
       "    </tr>\n",
       "  </tbody>\n",
       "</table>\n",
       "</div>"
      ],
      "text/plain": [
       "   0  1  2\n",
       "0  1  2  3\n",
       "1  7  8  9"
      ]
     },
     "execution_count": 13,
     "metadata": {},
     "output_type": "execute_result"
    }
   ],
   "source": [
    "# Create a DataFrame from NumPy Array\n",
    "import pandas as pd\n",
    "df = pd.DataFrame(a2)\n",
    "df"
   ]
  },
  {
   "cell_type": "code",
   "execution_count": 14,
   "id": "31070c61-f7f6-49b9-a340-36ef00d2acbf",
   "metadata": {},
   "outputs": [
    {
     "data": {
      "text/html": [
       "<div>\n",
       "<style scoped>\n",
       "    .dataframe tbody tr th:only-of-type {\n",
       "        vertical-align: middle;\n",
       "    }\n",
       "\n",
       "    .dataframe tbody tr th {\n",
       "        vertical-align: top;\n",
       "    }\n",
       "\n",
       "    .dataframe thead th {\n",
       "        text-align: right;\n",
       "    }\n",
       "</style>\n",
       "<table border=\"1\" class=\"dataframe\">\n",
       "  <thead>\n",
       "    <tr style=\"text-align: right;\">\n",
       "      <th></th>\n",
       "      <th>0</th>\n",
       "    </tr>\n",
       "  </thead>\n",
       "  <tbody>\n",
       "    <tr>\n",
       "      <th>0</th>\n",
       "      <td>1.1</td>\n",
       "    </tr>\n",
       "    <tr>\n",
       "      <th>1</th>\n",
       "      <td>2.0</td>\n",
       "    </tr>\n",
       "    <tr>\n",
       "      <th>2</th>\n",
       "      <td>3.0</td>\n",
       "    </tr>\n",
       "  </tbody>\n",
       "</table>\n",
       "</div>"
      ],
      "text/plain": [
       "     0\n",
       "0  1.1\n",
       "1  2.0\n",
       "2  3.0"
      ]
     },
     "execution_count": 14,
     "metadata": {},
     "output_type": "execute_result"
    }
   ],
   "source": [
    "df1 = pd.DataFrame(a1)\n",
    "df1"
   ]
  },
  {
   "cell_type": "code",
   "execution_count": 15,
   "id": "b3b1b164-818a-47cb-896b-12ed8df751fe",
   "metadata": {},
   "outputs": [
    {
     "data": {
      "text/html": [
       "<div>\n",
       "<style scoped>\n",
       "    .dataframe tbody tr th:only-of-type {\n",
       "        vertical-align: middle;\n",
       "    }\n",
       "\n",
       "    .dataframe tbody tr th {\n",
       "        vertical-align: top;\n",
       "    }\n",
       "\n",
       "    .dataframe thead th {\n",
       "        text-align: right;\n",
       "    }\n",
       "</style>\n",
       "<table border=\"1\" class=\"dataframe\">\n",
       "  <thead>\n",
       "    <tr style=\"text-align: right;\">\n",
       "      <th></th>\n",
       "      <th>0</th>\n",
       "      <th>1</th>\n",
       "      <th>2</th>\n",
       "    </tr>\n",
       "  </thead>\n",
       "  <tbody>\n",
       "    <tr>\n",
       "      <th>0</th>\n",
       "      <td>1</td>\n",
       "      <td>2</td>\n",
       "      <td>3</td>\n",
       "    </tr>\n",
       "    <tr>\n",
       "      <th>1</th>\n",
       "      <td>7</td>\n",
       "      <td>8</td>\n",
       "      <td>9</td>\n",
       "    </tr>\n",
       "  </tbody>\n",
       "</table>\n",
       "</div>"
      ],
      "text/plain": [
       "   0  1  2\n",
       "0  1  2  3\n",
       "1  7  8  9"
      ]
     },
     "execution_count": 15,
     "metadata": {},
     "output_type": "execute_result"
    }
   ],
   "source": [
    "df1 = pd.DataFrame(a2)\n",
    "df1"
   ]
  },
  {
   "cell_type": "markdown",
   "id": "32c1bcb8-0420-40d0-9292-90d394657473",
   "metadata": {},
   "source": [
    "## 2. Creating Arrays"
   ]
  },
  {
   "cell_type": "code",
   "execution_count": 16,
   "id": "c2e1e8e8-b878-4832-99c6-e8e23a924769",
   "metadata": {},
   "outputs": [
    {
     "data": {
      "text/plain": [
       "array([1, 2, 3, 4])"
      ]
     },
     "execution_count": 16,
     "metadata": {},
     "output_type": "execute_result"
    }
   ],
   "source": [
    "sample_arrays = np.array([1, 2, 3,4])\n",
    "sample_arrays"
   ]
  },
  {
   "cell_type": "code",
   "execution_count": 17,
   "id": "f01e1547-0517-4806-9e16-b44c521b1d25",
   "metadata": {},
   "outputs": [
    {
     "data": {
      "text/plain": [
       "dtype('int32')"
      ]
     },
     "execution_count": 17,
     "metadata": {},
     "output_type": "execute_result"
    }
   ],
   "source": [
    "sample_arrays.dtype"
   ]
  },
  {
   "cell_type": "code",
   "execution_count": 18,
   "id": "92c3f2c2-f4b6-4032-8b4f-479e63949e18",
   "metadata": {},
   "outputs": [
    {
     "data": {
      "text/plain": [
       "array([[1, 1, 1, 1],\n",
       "       [1, 1, 1, 1],\n",
       "       [1, 1, 1, 1]])"
      ]
     },
     "execution_count": 18,
     "metadata": {},
     "output_type": "execute_result"
    }
   ],
   "source": [
    "ones = np.ones(shape=(3,4), dtype=int, order='C')\n",
    "ones"
   ]
  },
  {
   "cell_type": "code",
   "execution_count": 19,
   "id": "81e24ee2-d370-46de-ab88-be0101df1eac",
   "metadata": {},
   "outputs": [
    {
     "data": {
      "text/plain": [
       "array([[0, 0],\n",
       "       [0, 0],\n",
       "       [0, 0],\n",
       "       [0, 0]])"
      ]
     },
     "execution_count": 19,
     "metadata": {},
     "output_type": "execute_result"
    }
   ],
   "source": [
    "zeros = np.zeros((4,2), dtype=int, order='F')\n",
    "zeros"
   ]
  },
  {
   "cell_type": "code",
   "execution_count": 20,
   "id": "6468a935-616a-430e-97f7-2bb1c0d8048a",
   "metadata": {},
   "outputs": [
    {
     "data": {
      "text/plain": [
       "array([0, 2, 4, 6, 8])"
      ]
     },
     "execution_count": 20,
     "metadata": {},
     "output_type": "execute_result"
    }
   ],
   "source": [
    "range_array = np.arange(0, 10, 2)\n",
    "range_array"
   ]
  },
  {
   "cell_type": "code",
   "execution_count": 21,
   "id": "cf431774-3e6d-4223-9d80-272013485519",
   "metadata": {},
   "outputs": [
    {
     "data": {
      "text/plain": [
       "array([[4, 1, 7, 2, 5],\n",
       "       [2, 9, 6, 6, 7],\n",
       "       [8, 7, 9, 0, 3]])"
      ]
     },
     "execution_count": 21,
     "metadata": {},
     "output_type": "execute_result"
    }
   ],
   "source": [
    "range_array1 = np.random.randint(0, 10, size=(3,5))\n",
    "range_array1"
   ]
  },
  {
   "cell_type": "code",
   "execution_count": 22,
   "id": "49808652-2483-4960-8488-f26953cad6db",
   "metadata": {},
   "outputs": [
    {
     "data": {
      "text/plain": [
       "(3, 5)"
      ]
     },
     "execution_count": 22,
     "metadata": {},
     "output_type": "execute_result"
    }
   ],
   "source": [
    "range_array1.shape"
   ]
  },
  {
   "cell_type": "code",
   "execution_count": 23,
   "id": "ebc0faf3-1ce2-43b1-b42c-c15ff77f781d",
   "metadata": {},
   "outputs": [],
   "source": [
    "random_array_2 = np.random.random((5,3))"
   ]
  },
  {
   "cell_type": "code",
   "execution_count": 24,
   "id": "b33a4ff0-309a-4d98-96dd-53e36d427419",
   "metadata": {},
   "outputs": [
    {
     "data": {
      "text/plain": [
       "(5, 3)"
      ]
     },
     "execution_count": 24,
     "metadata": {},
     "output_type": "execute_result"
    }
   ],
   "source": [
    "random_array_2.shape"
   ]
  },
  {
   "cell_type": "code",
   "execution_count": 25,
   "id": "bf59614e-dacd-4cf3-bb4c-7f5e5ce864d3",
   "metadata": {},
   "outputs": [
    {
     "data": {
      "text/plain": [
       "array([[0.04846025, 0.89151588, 0.22013486],\n",
       "       [0.3849678 , 0.35333444, 0.69401458],\n",
       "       [0.69918189, 0.46299189, 0.49397884],\n",
       "       [0.15132521, 0.74600574, 0.48956056],\n",
       "       [0.99722843, 0.96259941, 0.50443414]])"
      ]
     },
     "execution_count": 25,
     "metadata": {},
     "output_type": "execute_result"
    }
   ],
   "source": [
    "random_array_2"
   ]
  },
  {
   "cell_type": "code",
   "execution_count": 26,
   "id": "f569ce4b-2bb7-41b7-b80e-ff740692a6e9",
   "metadata": {},
   "outputs": [],
   "source": [
    "random_array_3 = np.random.rand(5,3)"
   ]
  },
  {
   "cell_type": "code",
   "execution_count": 27,
   "id": "dad856e3-5f2d-4e27-8b58-b42cdda7d957",
   "metadata": {},
   "outputs": [
    {
     "data": {
      "text/plain": [
       "array([[0.46039161, 0.78049671, 0.0044746 ],\n",
       "       [0.03923802, 0.05314305, 0.37945813],\n",
       "       [0.18314715, 0.98491369, 0.06107965],\n",
       "       [0.20816548, 0.66938969, 0.04133848],\n",
       "       [0.21553412, 0.378687  , 0.91254664]])"
      ]
     },
     "execution_count": 27,
     "metadata": {},
     "output_type": "execute_result"
    }
   ],
   "source": [
    "random_array_3"
   ]
  },
  {
   "cell_type": "code",
   "execution_count": 28,
   "id": "40f25378-319e-4f23-930c-5957301842f1",
   "metadata": {},
   "outputs": [
    {
     "data": {
      "text/plain": [
       "array([[0.01066751, 0.5598083 , 0.54426098],\n",
       "       [0.95199336, 0.54838202, 0.23160772],\n",
       "       [0.99745731, 0.1802021 , 0.71961747],\n",
       "       [0.49139969, 0.61733523, 0.81616337],\n",
       "       [0.47514067, 0.64046355, 0.83412212]])"
      ]
     },
     "execution_count": 28,
     "metadata": {},
     "output_type": "execute_result"
    }
   ],
   "source": [
    "# Pseudo-random numbers\n",
    "#np.random.seed()\n",
    "random_array_4 = np.random.random(size=(5,3))\n",
    "random_array_4"
   ]
  },
  {
   "cell_type": "code",
   "execution_count": 29,
   "id": "855ac046-efb4-4712-9dfd-f13a875c2da1",
   "metadata": {},
   "outputs": [
    {
     "data": {
      "text/plain": [
       "((5, 3), 15)"
      ]
     },
     "execution_count": 29,
     "metadata": {},
     "output_type": "execute_result"
    }
   ],
   "source": [
    "random_array_4.shape, random_array_4.size"
   ]
  },
  {
   "cell_type": "code",
   "execution_count": 30,
   "id": "8089fde2-dd26-4c81-acda-ee2c3920abbc",
   "metadata": {},
   "outputs": [
    {
     "data": {
      "text/plain": [
       "array([[0.07630829, 0.77991879, 0.43840923],\n",
       "       [0.72346518, 0.97798951, 0.53849587],\n",
       "       [0.50112046, 0.07205113, 0.26843898],\n",
       "       [0.4998825 , 0.67923   , 0.80373904],\n",
       "       [0.38094113, 0.06593635, 0.2881456 ]])"
      ]
     },
     "execution_count": 30,
     "metadata": {},
     "output_type": "execute_result"
    }
   ],
   "source": [
    "np.random.seed(7)\n",
    "random_array_5 = np.random.random(size=(5,3))\n",
    "random_array_5"
   ]
  },
  {
   "cell_type": "code",
   "execution_count": 31,
   "id": "4507998a-698e-47b0-ba94-327888b4f029",
   "metadata": {},
   "outputs": [
    {
     "data": {
      "text/plain": [
       "((5, 3), 15, dtype('float64'))"
      ]
     },
     "execution_count": 31,
     "metadata": {},
     "output_type": "execute_result"
    }
   ],
   "source": [
    "random_array_5.shape, random_array_5.size, random_array_5.dtype"
   ]
  },
  {
   "cell_type": "code",
   "execution_count": 32,
   "id": "d82e965b-8b9f-46d9-8335-56dc6b64e1d0",
   "metadata": {},
   "outputs": [
    {
     "data": {
      "text/plain": [
       "array([[0.07630829, 0.77991879, 0.43840923],\n",
       "       [0.72346518, 0.97798951, 0.53849587],\n",
       "       [0.50112046, 0.07205113, 0.26843898],\n",
       "       [0.4998825 , 0.67923   , 0.80373904],\n",
       "       [0.38094113, 0.06593635, 0.2881456 ],\n",
       "       [0.90959353, 0.21338535, 0.45212396],\n",
       "       [0.93120602, 0.02489923, 0.60054892],\n",
       "       [0.9501295 , 0.23030288, 0.54848992],\n",
       "       [0.90912837, 0.13316945, 0.52341258],\n",
       "       [0.75040986, 0.66901324, 0.46775286],\n",
       "       [0.20484909, 0.49076589, 0.37238469],\n",
       "       [0.47740115, 0.36589039, 0.83791799],\n",
       "       [0.76864751, 0.31399468, 0.57262533],\n",
       "       [0.27604905, 0.45284293, 0.35297837],\n",
       "       [0.65739946, 0.37035108, 0.45909298]])"
      ]
     },
     "execution_count": 32,
     "metadata": {},
     "output_type": "execute_result"
    }
   ],
   "source": [
    "np.random.seed(7)\n",
    "random_array_6 = np.random.random(size=(15,3))\n",
    "random_array_6"
   ]
  },
  {
   "cell_type": "code",
   "execution_count": 33,
   "id": "ea83c3bf-162e-469b-abbc-07f93e205713",
   "metadata": {},
   "outputs": [
    {
     "data": {
      "text/plain": [
       "((15, 3), 45, dtype('float64'))"
      ]
     },
     "execution_count": 33,
     "metadata": {},
     "output_type": "execute_result"
    }
   ],
   "source": [
    "random_array_6.shape, random_array_6.size, random_array_6.dtype"
   ]
  },
  {
   "cell_type": "markdown",
   "id": "e75e5563-a88c-40e2-9a7b-18aad857291c",
   "metadata": {},
   "source": [
    "## 3. Viewing arrays and matrices"
   ]
  },
  {
   "cell_type": "code",
   "execution_count": 34,
   "id": "7c67c12f-166c-4652-a6a1-7b630825e613",
   "metadata": {},
   "outputs": [
    {
     "data": {
      "text/plain": [
       "array([0, 1, 2, 3, 4, 5, 6, 7, 8, 9])"
      ]
     },
     "execution_count": 34,
     "metadata": {},
     "output_type": "execute_result"
    }
   ],
   "source": [
    "np.unique(range_array1)"
   ]
  },
  {
   "cell_type": "code",
   "execution_count": 35,
   "id": "dd5475b8-0c20-41df-83f0-e3e0ba743b2d",
   "metadata": {},
   "outputs": [
    {
     "data": {
      "text/plain": [
       "array([1.1, 2. , 3. ])"
      ]
     },
     "execution_count": 35,
     "metadata": {},
     "output_type": "execute_result"
    }
   ],
   "source": [
    "a1\n"
   ]
  },
  {
   "cell_type": "code",
   "execution_count": 36,
   "id": "df71a8e9-595f-4c89-b745-164a903f42e8",
   "metadata": {},
   "outputs": [
    {
     "data": {
      "text/plain": [
       "array([[1, 2, 3],\n",
       "       [7, 8, 9]])"
      ]
     },
     "execution_count": 36,
     "metadata": {},
     "output_type": "execute_result"
    }
   ],
   "source": [
    "a2"
   ]
  },
  {
   "cell_type": "code",
   "execution_count": 37,
   "id": "2986c5aa-aa39-499c-a5d8-c129737f14f1",
   "metadata": {},
   "outputs": [
    {
     "data": {
      "text/plain": [
       "array([[[ 1,  2,  3],\n",
       "        [ 4,  5,  6],\n",
       "        [ 7,  8,  9]],\n",
       "\n",
       "       [[11, 12, 13],\n",
       "        [14, 15, 16],\n",
       "        [17, 18, 19]]])"
      ]
     },
     "execution_count": 37,
     "metadata": {},
     "output_type": "execute_result"
    }
   ],
   "source": [
    "a3"
   ]
  },
  {
   "cell_type": "code",
   "execution_count": 38,
   "id": "d4c56a1f-e358-4565-b33d-cbab49d4b0b3",
   "metadata": {},
   "outputs": [
    {
     "data": {
      "text/plain": [
       "(2.0, 3.0, 1.1)"
      ]
     },
     "execution_count": 38,
     "metadata": {},
     "output_type": "execute_result"
    }
   ],
   "source": [
    "a1[1], a1[2], a1[0] "
   ]
  },
  {
   "cell_type": "code",
   "execution_count": 39,
   "id": "371ba5ef-c9db-46ec-941b-81a71d877ffe",
   "metadata": {},
   "outputs": [
    {
     "data": {
      "text/plain": [
       "array([1, 2, 3])"
      ]
     },
     "execution_count": 39,
     "metadata": {},
     "output_type": "execute_result"
    }
   ],
   "source": [
    "a2[0]"
   ]
  },
  {
   "cell_type": "code",
   "execution_count": 40,
   "id": "9580cc29-0516-4fa2-95a0-3581f5308a81",
   "metadata": {},
   "outputs": [
    {
     "data": {
      "text/plain": [
       "array([7, 8, 9])"
      ]
     },
     "execution_count": 40,
     "metadata": {},
     "output_type": "execute_result"
    }
   ],
   "source": [
    "a2[1]"
   ]
  },
  {
   "cell_type": "code",
   "execution_count": 41,
   "id": "8b801743-73e8-47ff-9d29-71d49105c23e",
   "metadata": {},
   "outputs": [
    {
     "data": {
      "text/plain": [
       "3"
      ]
     },
     "execution_count": 41,
     "metadata": {},
     "output_type": "execute_result"
    }
   ],
   "source": [
    "a2[0,2]"
   ]
  },
  {
   "cell_type": "code",
   "execution_count": 42,
   "id": "b755cfbc-f5d8-4a7f-aa69-c97f21f04f9e",
   "metadata": {},
   "outputs": [
    {
     "data": {
      "text/plain": [
       "array([1.1, 2. , 3. ])"
      ]
     },
     "execution_count": 42,
     "metadata": {},
     "output_type": "execute_result"
    }
   ],
   "source": [
    "a1[:3]"
   ]
  },
  {
   "cell_type": "code",
   "execution_count": 43,
   "id": "20e50035-f6a1-4424-a2db-c5cc857524ec",
   "metadata": {},
   "outputs": [
    {
     "data": {
      "text/plain": [
       "array([], dtype=float64)"
      ]
     },
     "execution_count": 43,
     "metadata": {},
     "output_type": "execute_result"
    }
   ],
   "source": [
    "a1[3:]"
   ]
  },
  {
   "cell_type": "code",
   "execution_count": 44,
   "id": "ce6d8444-9d98-4711-a1e3-0cd5dc215641",
   "metadata": {},
   "outputs": [
    {
     "data": {
      "text/plain": [
       "array([[1, 2, 3],\n",
       "       [4, 5, 6],\n",
       "       [7, 8, 9]])"
      ]
     },
     "execution_count": 44,
     "metadata": {},
     "output_type": "execute_result"
    }
   ],
   "source": [
    "a3[0]"
   ]
  },
  {
   "cell_type": "code",
   "execution_count": 45,
   "id": "f4a2d2a3-dfb4-4b05-b634-60cde54320b8",
   "metadata": {},
   "outputs": [
    {
     "data": {
      "text/plain": [
       "array([[11, 12, 13],\n",
       "       [14, 15, 16],\n",
       "       [17, 18, 19]])"
      ]
     },
     "execution_count": 45,
     "metadata": {},
     "output_type": "execute_result"
    }
   ],
   "source": [
    "a3[1]"
   ]
  },
  {
   "cell_type": "code",
   "execution_count": 46,
   "id": "13be2a4b-d37f-44ff-a7b7-07f88964b769",
   "metadata": {},
   "outputs": [
    {
     "data": {
      "text/plain": [
       "array([[[[1, 9, 5, 9, 1],\n",
       "         [2, 3, 2, 2, 5],\n",
       "         [7, 3, 0, 9, 9],\n",
       "         [3, 4, 5, 3, 0]],\n",
       "\n",
       "        [[4, 8, 6, 7, 2],\n",
       "         [7, 3, 8, 6, 6],\n",
       "         [5, 6, 5, 7, 1],\n",
       "         [5, 4, 4, 9, 9]],\n",
       "\n",
       "        [[0, 6, 2, 6, 8],\n",
       "         [2, 4, 1, 6, 1],\n",
       "         [5, 1, 6, 9, 8],\n",
       "         [6, 5, 9, 7, 5]]],\n",
       "\n",
       "\n",
       "       [[[4, 9, 6, 8, 1],\n",
       "         [5, 5, 8, 3, 7],\n",
       "         [7, 9, 4, 7, 5],\n",
       "         [9, 6, 2, 0, 5]],\n",
       "\n",
       "        [[3, 0, 5, 7, 1],\n",
       "         [8, 4, 9, 0, 2],\n",
       "         [0, 7, 6, 2, 9],\n",
       "         [9, 5, 1, 0, 0]],\n",
       "\n",
       "        [[9, 1, 1, 5, 3],\n",
       "         [2, 0, 4, 8, 7],\n",
       "         [1, 4, 9, 3, 6],\n",
       "         [7, 1, 0, 2, 7]]]])"
      ]
     },
     "execution_count": 46,
     "metadata": {},
     "output_type": "execute_result"
    }
   ],
   "source": [
    "a4 = np.random.randint(10, size=(2,3, 4, 5))\n",
    "a4"
   ]
  },
  {
   "cell_type": "code",
   "execution_count": 47,
   "id": "a6dcd24f-0c72-4443-93c3-00551c759045",
   "metadata": {},
   "outputs": [
    {
     "data": {
      "text/plain": [
       "((2, 3, 4, 5), 4)"
      ]
     },
     "execution_count": 47,
     "metadata": {},
     "output_type": "execute_result"
    }
   ],
   "source": [
    "a4.shape, a4.ndim"
   ]
  },
  {
   "cell_type": "code",
   "execution_count": 48,
   "id": "3efd5ceb-2761-41c7-9d8d-7c6f08fa8762",
   "metadata": {},
   "outputs": [
    {
     "data": {
      "text/plain": [
       "array([[[[1, 9, 5, 9],\n",
       "         [2, 3, 2, 2],\n",
       "         [7, 3, 0, 9],\n",
       "         [3, 4, 5, 3]],\n",
       "\n",
       "        [[4, 8, 6, 7],\n",
       "         [7, 3, 8, 6],\n",
       "         [5, 6, 5, 7],\n",
       "         [5, 4, 4, 9]],\n",
       "\n",
       "        [[0, 6, 2, 6],\n",
       "         [2, 4, 1, 6],\n",
       "         [5, 1, 6, 9],\n",
       "         [6, 5, 9, 7]]],\n",
       "\n",
       "\n",
       "       [[[4, 9, 6, 8],\n",
       "         [5, 5, 8, 3],\n",
       "         [7, 9, 4, 7],\n",
       "         [9, 6, 2, 0]],\n",
       "\n",
       "        [[3, 0, 5, 7],\n",
       "         [8, 4, 9, 0],\n",
       "         [0, 7, 6, 2],\n",
       "         [9, 5, 1, 0]],\n",
       "\n",
       "        [[9, 1, 1, 5],\n",
       "         [2, 0, 4, 8],\n",
       "         [1, 4, 9, 3],\n",
       "         [7, 1, 0, 2]]]])"
      ]
     },
     "execution_count": 48,
     "metadata": {},
     "output_type": "execute_result"
    }
   ],
   "source": [
    "# Get the first 4 numbers of the inner most array\n",
    "a4[:,:,:,:4]"
   ]
  },
  {
   "cell_type": "code",
   "execution_count": 49,
   "id": "19ae7a69-18ca-46d6-9bd1-b8242832713d",
   "metadata": {},
   "outputs": [
    {
     "data": {
      "text/plain": [
       "array([[[[1, 9, 5, 9, 1],\n",
       "         [2, 3, 2, 2, 5]]],\n",
       "\n",
       "\n",
       "       [[[4, 9, 6, 8, 1],\n",
       "         [5, 5, 8, 3, 7]]]])"
      ]
     },
     "execution_count": 49,
     "metadata": {},
     "output_type": "execute_result"
    }
   ],
   "source": [
    "# Get the first 1 numbers of the inner most array\n",
    "a4[:2,:1,:2,:5]"
   ]
  },
  {
   "cell_type": "code",
   "execution_count": 50,
   "id": "7521d5b6-c3b0-439e-b0cb-13ff767ee1fc",
   "metadata": {},
   "outputs": [
    {
     "data": {
      "text/plain": [
       "array([2, 4, 6])"
      ]
     },
     "execution_count": 50,
     "metadata": {},
     "output_type": "execute_result"
    }
   ],
   "source": [
    "a1 = np.array([2, 4, 6])\n",
    "a2 = np.array([4,6,8])\n",
    "a1\n"
   ]
  },
  {
   "cell_type": "code",
   "execution_count": 51,
   "id": "6498f16a-13ea-4296-ad1d-7ff239d297cc",
   "metadata": {},
   "outputs": [
    {
     "data": {
      "text/plain": [
       "array([ 6, 10, 14])"
      ]
     },
     "execution_count": 51,
     "metadata": {},
     "output_type": "execute_result"
    }
   ],
   "source": [
    "a1 + a2"
   ]
  },
  {
   "cell_type": "code",
   "execution_count": 52,
   "id": "cc01bc5b-3e96-461b-924e-1591b50d9877",
   "metadata": {},
   "outputs": [
    {
     "data": {
      "text/plain": [
       "array([2, 2, 2])"
      ]
     },
     "execution_count": 52,
     "metadata": {},
     "output_type": "execute_result"
    }
   ],
   "source": [
    "a2 - a1"
   ]
  },
  {
   "cell_type": "code",
   "execution_count": 53,
   "id": "6587db6b-72a8-4423-bbe1-3814eb28e443",
   "metadata": {},
   "outputs": [
    {
     "data": {
      "text/plain": [
       "array([[1, 2, 3],\n",
       "       [3, 3, 3]])"
      ]
     },
     "execution_count": 53,
     "metadata": {},
     "output_type": "execute_result"
    }
   ],
   "source": [
    "a3 = np.array([[1, 2, 3],\n",
    "             [3, 3, 3]])\n",
    "a3"
   ]
  },
  {
   "cell_type": "code",
   "execution_count": 54,
   "id": "f076cd34-2139-4c9e-9ef9-77965285acb3",
   "metadata": {},
   "outputs": [
    {
     "data": {
      "text/plain": [
       "array([[3, 6, 9],\n",
       "       [5, 7, 9]])"
      ]
     },
     "execution_count": 54,
     "metadata": {},
     "output_type": "execute_result"
    }
   ],
   "source": [
    "a1 + a3"
   ]
  },
  {
   "cell_type": "code",
   "execution_count": 55,
   "id": "d06ff1b3-eab0-4fb9-b031-c070ae1a0253",
   "metadata": {},
   "outputs": [
    {
     "data": {
      "text/plain": [
       "array([[ 1,  2,  3],\n",
       "       [-1,  1,  3]])"
      ]
     },
     "execution_count": 55,
     "metadata": {},
     "output_type": "execute_result"
    }
   ],
   "source": [
    "a1 - a3"
   ]
  },
  {
   "cell_type": "code",
   "execution_count": 56,
   "id": "5d99fc51-be81-4b18-b62e-54e89cd64cfd",
   "metadata": {},
   "outputs": [
    {
     "data": {
      "text/plain": [
       "array([2, 4, 6])"
      ]
     },
     "execution_count": 56,
     "metadata": {},
     "output_type": "execute_result"
    }
   ],
   "source": [
    "a1"
   ]
  },
  {
   "cell_type": "code",
   "execution_count": 57,
   "id": "0317a8d6-2652-483f-9981-6b84f148fd9e",
   "metadata": {},
   "outputs": [
    {
     "data": {
      "text/plain": [
       "array([[1, 2, 3],\n",
       "       [3, 3, 3]])"
      ]
     },
     "execution_count": 57,
     "metadata": {},
     "output_type": "execute_result"
    }
   ],
   "source": [
    "a3"
   ]
  },
  {
   "cell_type": "code",
   "execution_count": 58,
   "id": "904610a9-9d42-46c8-b15b-cd4a32ec8a50",
   "metadata": {},
   "outputs": [
    {
     "data": {
      "text/plain": [
       "array([ 8, 24, 48])"
      ]
     },
     "execution_count": 58,
     "metadata": {},
     "output_type": "execute_result"
    }
   ],
   "source": [
    "a1 * a2"
   ]
  },
  {
   "cell_type": "code",
   "execution_count": 59,
   "id": "031bab3c-2970-471f-8098-8138a856be9f",
   "metadata": {},
   "outputs": [
    {
     "data": {
      "text/plain": [
       "array([0.5       , 0.66666667, 0.75      ])"
      ]
     },
     "execution_count": 59,
     "metadata": {},
     "output_type": "execute_result"
    }
   ],
   "source": [
    "a1/a2"
   ]
  },
  {
   "cell_type": "code",
   "execution_count": 60,
   "id": "9935b179-f766-45bd-962a-53076ec67690",
   "metadata": {},
   "outputs": [
    {
     "data": {
      "text/plain": [
       "array([0, 0, 0])"
      ]
     },
     "execution_count": 60,
     "metadata": {},
     "output_type": "execute_result"
    }
   ],
   "source": [
    "a1//a2"
   ]
  },
  {
   "cell_type": "code",
   "execution_count": 61,
   "id": "3e987fa9-556b-46e4-ae87-a2bfd8c4ae1c",
   "metadata": {},
   "outputs": [
    {
     "data": {
      "text/plain": [
       "array([2, 1, 1])"
      ]
     },
     "execution_count": 61,
     "metadata": {},
     "output_type": "execute_result"
    }
   ],
   "source": [
    "a2//a1"
   ]
  },
  {
   "cell_type": "code",
   "execution_count": 62,
   "id": "958a97fa-6ab8-4b92-9ccd-3285de76ea05",
   "metadata": {},
   "outputs": [
    {
     "data": {
      "text/plain": [
       "array([2.        , 1.5       , 1.33333333])"
      ]
     },
     "execution_count": 62,
     "metadata": {},
     "output_type": "execute_result"
    }
   ],
   "source": [
    "a2/a1"
   ]
  },
  {
   "cell_type": "code",
   "execution_count": 63,
   "id": "a7a0dd3c-ed28-41a0-b0b3-46b8f580a8a7",
   "metadata": {},
   "outputs": [
    {
     "data": {
      "text/plain": [
       "array([2, 4, 6])"
      ]
     },
     "execution_count": 63,
     "metadata": {},
     "output_type": "execute_result"
    }
   ],
   "source": [
    "a1"
   ]
  },
  {
   "cell_type": "code",
   "execution_count": 64,
   "id": "05ca06e9-f3ec-4a8d-b6fa-510e07a84e5c",
   "metadata": {},
   "outputs": [
    {
     "data": {
      "text/plain": [
       "array([[1, 2, 3],\n",
       "       [3, 3, 3]])"
      ]
     },
     "execution_count": 64,
     "metadata": {},
     "output_type": "execute_result"
    }
   ],
   "source": [
    "a3"
   ]
  },
  {
   "cell_type": "code",
   "execution_count": 65,
   "id": "8aac7739-3083-4c06-818c-a5d1f3692650",
   "metadata": {},
   "outputs": [
    {
     "data": {
      "text/plain": [
       "array([[ 2,  8, 18],\n",
       "       [ 6, 12, 18]])"
      ]
     },
     "execution_count": 65,
     "metadata": {},
     "output_type": "execute_result"
    }
   ],
   "source": [
    "a1 *a3"
   ]
  },
  {
   "cell_type": "code",
   "execution_count": 66,
   "id": "c8c65043-8ac5-4654-a1cf-b65affbf86db",
   "metadata": {},
   "outputs": [
    {
     "data": {
      "text/plain": [
       "array([[ 2,  8, 18],\n",
       "       [ 6, 12, 18]])"
      ]
     },
     "execution_count": 66,
     "metadata": {},
     "output_type": "execute_result"
    }
   ],
   "source": [
    "a3 * a1"
   ]
  },
  {
   "cell_type": "code",
   "execution_count": 67,
   "id": "b9c86a3f-469b-4c51-bfed-f32181edd25e",
   "metadata": {},
   "outputs": [],
   "source": [
    "b3 = np.array([[[ 1,  2,  3],\n",
    "        [ 4,  5,  6],\n",
    "        [ 7,  8,  9]],\n",
    "\n",
    "       [[11, 12, 13],\n",
    "        [14, 15, 16],\n",
    "        [17, 18, 19]]])"
   ]
  },
  {
   "cell_type": "code",
   "execution_count": 68,
   "id": "44d21252-fa05-4184-99db-329175a4570e",
   "metadata": {},
   "outputs": [
    {
     "data": {
      "text/plain": [
       "array([[[ 1,  2,  3],\n",
       "        [ 4,  5,  6],\n",
       "        [ 7,  8,  9]],\n",
       "\n",
       "       [[11, 12, 13],\n",
       "        [14, 15, 16],\n",
       "        [17, 18, 19]]])"
      ]
     },
     "execution_count": 68,
     "metadata": {},
     "output_type": "execute_result"
    }
   ],
   "source": [
    "b3"
   ]
  },
  {
   "cell_type": "code",
   "execution_count": 69,
   "id": "c55621b3-d569-4aa2-af18-6448dd88746d",
   "metadata": {},
   "outputs": [],
   "source": [
    "b2 = np.array([[ 2,  8, 18],\n",
    "       [ 6, 12, 18]])\n"
   ]
  },
  {
   "cell_type": "code",
   "execution_count": null,
   "id": "cc1ac890-64c2-40bc-8422-a6425621107a",
   "metadata": {},
   "outputs": [],
   "source": []
  },
  {
   "cell_type": "code",
   "execution_count": 70,
   "id": "42fa821f-9369-4bbe-894c-6ba3dbd7c81e",
   "metadata": {},
   "outputs": [
    {
     "data": {
      "text/plain": [
       "array([ 4, 16, 36])"
      ]
     },
     "execution_count": 70,
     "metadata": {},
     "output_type": "execute_result"
    }
   ],
   "source": [
    "a1 ** 2"
   ]
  },
  {
   "cell_type": "code",
   "execution_count": 71,
   "id": "0d41cf4c-37a6-462f-a93a-bc7d625aff69",
   "metadata": {},
   "outputs": [
    {
     "data": {
      "text/plain": [
       "array([[  2,   4,   6],\n",
       "       [ 32,  40,  48],\n",
       "       [126, 144, 162],\n",
       "       [ 66,  72,  78],\n",
       "       [168, 180, 192],\n",
       "       [306, 324, 342]])"
      ]
     },
     "execution_count": 71,
     "metadata": {},
     "output_type": "execute_result"
    }
   ],
   "source": [
    "# how can you reshape b2 to compatible with b3?\n",
    "# Search: \"How to reshape numpy array?\"\n",
    "b2 = b2.reshape(6,1)\n",
    "b3 = b3.reshape(6,3)\n",
    "b2 * b3\n"
   ]
  },
  {
   "cell_type": "markdown",
   "id": "2c10c231-403d-44d7-b19b-392b1725ce7d",
   "metadata": {},
   "source": [
    "### Aggregation\n",
    "\n",
    "Aggregation = Performing the same operation on number of things"
   ]
  },
  {
   "cell_type": "code",
   "execution_count": 72,
   "id": "e23fb924-e7fe-4d09-9f2e-8f94573436e0",
   "metadata": {},
   "outputs": [
    {
     "data": {
      "text/plain": [
       "12"
      ]
     },
     "execution_count": 72,
     "metadata": {},
     "output_type": "execute_result"
    }
   ],
   "source": [
    "listy_list = [  2,   4,   6]\n",
    "sum(listy_list)"
   ]
  },
  {
   "cell_type": "code",
   "execution_count": 73,
   "id": "66715050-bac9-4dd5-ac7c-9384c1abf0e9",
   "metadata": {},
   "outputs": [
    {
     "data": {
      "text/plain": [
       "list"
      ]
     },
     "execution_count": 73,
     "metadata": {},
     "output_type": "execute_result"
    }
   ],
   "source": [
    "type(listy_list)"
   ]
  },
  {
   "cell_type": "code",
   "execution_count": 74,
   "id": "9af44f86-58af-4251-8740-0dc2367a783c",
   "metadata": {},
   "outputs": [
    {
     "data": {
      "text/plain": [
       "array([2, 4, 6])"
      ]
     },
     "execution_count": 74,
     "metadata": {},
     "output_type": "execute_result"
    }
   ],
   "source": [
    "a1\n"
   ]
  },
  {
   "cell_type": "code",
   "execution_count": 75,
   "id": "dcc11e6a-7c5e-4aa4-ab30-b74bee6019e2",
   "metadata": {},
   "outputs": [
    {
     "data": {
      "text/plain": [
       "12"
      ]
     },
     "execution_count": 75,
     "metadata": {},
     "output_type": "execute_result"
    }
   ],
   "source": [
    "sum(a1)"
   ]
  },
  {
   "cell_type": "code",
   "execution_count": 76,
   "id": "cf96e095-379a-412e-a1f1-1d5872e23a3f",
   "metadata": {},
   "outputs": [
    {
     "data": {
      "text/plain": [
       "12"
      ]
     },
     "execution_count": 76,
     "metadata": {},
     "output_type": "execute_result"
    }
   ],
   "source": [
    "np.sum(a1)"
   ]
  },
  {
   "cell_type": "markdown",
   "id": "e4458752-d2d6-48ec-bcf9-cf7e4dd6b0c8",
   "metadata": {},
   "source": [
    "### Use Python's methods (sum()) on Python Datatypes and use NumPy's methods on NumPy arrays(np.sum())."
   ]
  },
  {
   "cell_type": "code",
   "execution_count": 77,
   "id": "a6208e85-5361-40eb-9ffd-5de0a1aa14de",
   "metadata": {},
   "outputs": [
    {
     "data": {
      "text/plain": [
       "100000"
      ]
     },
     "execution_count": 77,
     "metadata": {},
     "output_type": "execute_result"
    }
   ],
   "source": [
    "massive_array = np.random.random(100000)\n",
    "massive_array.size"
   ]
  },
  {
   "cell_type": "code",
   "execution_count": 78,
   "id": "97ee3052-2a52-4837-8a4a-428ba20f1264",
   "metadata": {},
   "outputs": [
    {
     "data": {
      "text/plain": [
       "array([0.1494863 , 0.02319037, 0.52471984, 0.6966959 , 0.42705349,\n",
       "       0.13457046, 0.33135721, 0.59034585, 0.94066139, 0.99255772,\n",
       "       0.24160292, 0.01057991, 0.83064033, 0.92661294, 0.45860348,\n",
       "       0.77144234, 0.86619903, 0.6096148 , 0.87262718, 0.02390303])"
      ]
     },
     "execution_count": 78,
     "metadata": {},
     "output_type": "execute_result"
    }
   ],
   "source": [
    "massive_array[:20]"
   ]
  },
  {
   "cell_type": "code",
   "execution_count": 79,
   "id": "c1e78c7d-d601-494a-ab2e-45bedb5650a1",
   "metadata": {},
   "outputs": [
    {
     "name": "stdout",
     "output_type": "stream",
     "text": [
      "7.97 ms ± 1.05 ms per loop (mean ± std. dev. of 7 runs, 100 loops each)\n",
      "33.2 μs ± 3.07 μs per loop (mean ± std. dev. of 7 runs, 10,000 loops each)\n"
     ]
    }
   ],
   "source": [
    "%timeit sum(massive_array)    # Python's sum()\n",
    "%timeit np.sum(massive_array)   # Numpy's np.sum()"
   ]
  },
  {
   "cell_type": "code",
   "execution_count": 80,
   "id": "54842d33-c74e-4a61-bee9-ed02354f81a0",
   "metadata": {},
   "outputs": [
    {
     "data": {
      "text/plain": [
       "array([[1, 2, 3],\n",
       "       [3, 3, 3]])"
      ]
     },
     "execution_count": 80,
     "metadata": {},
     "output_type": "execute_result"
    }
   ],
   "source": [
    "a3"
   ]
  },
  {
   "cell_type": "code",
   "execution_count": 81,
   "id": "f8bf4376-50b8-419d-a5f7-5ab48c114c78",
   "metadata": {},
   "outputs": [
    {
     "data": {
      "text/plain": [
       "2.5"
      ]
     },
     "execution_count": 81,
     "metadata": {},
     "output_type": "execute_result"
    }
   ],
   "source": [
    "np.mean(a3)"
   ]
  },
  {
   "cell_type": "code",
   "execution_count": 82,
   "id": "15a07c42-46aa-4870-963e-298a46fd6f17",
   "metadata": {},
   "outputs": [
    {
     "data": {
      "text/plain": [
       "5.0"
      ]
     },
     "execution_count": 82,
     "metadata": {},
     "output_type": "execute_result"
    }
   ],
   "source": [
    "np.median(a4)"
   ]
  },
  {
   "cell_type": "code",
   "execution_count": 83,
   "id": "82933625-8b60-41e3-8df6-b206f4bcf1e8",
   "metadata": {},
   "outputs": [
    {
     "data": {
      "text/plain": [
       "9"
      ]
     },
     "execution_count": 83,
     "metadata": {},
     "output_type": "execute_result"
    }
   ],
   "source": [
    "np.max(a4)"
   ]
  },
  {
   "cell_type": "code",
   "execution_count": 84,
   "id": "df86d3ed-bb62-41c1-b8b3-6ee96d3b7aec",
   "metadata": {},
   "outputs": [
    {
     "data": {
      "text/plain": [
       "array([[[[1, 9, 5, 9, 1],\n",
       "         [2, 3, 2, 2, 5],\n",
       "         [7, 3, 0, 9, 9],\n",
       "         [3, 4, 5, 3, 0]],\n",
       "\n",
       "        [[4, 8, 6, 7, 2],\n",
       "         [7, 3, 8, 6, 6],\n",
       "         [5, 6, 5, 7, 1],\n",
       "         [5, 4, 4, 9, 9]],\n",
       "\n",
       "        [[0, 6, 2, 6, 8],\n",
       "         [2, 4, 1, 6, 1],\n",
       "         [5, 1, 6, 9, 8],\n",
       "         [6, 5, 9, 7, 5]]],\n",
       "\n",
       "\n",
       "       [[[4, 9, 6, 8, 1],\n",
       "         [5, 5, 8, 3, 7],\n",
       "         [7, 9, 4, 7, 5],\n",
       "         [9, 6, 2, 0, 5]],\n",
       "\n",
       "        [[3, 0, 5, 7, 1],\n",
       "         [8, 4, 9, 0, 2],\n",
       "         [0, 7, 6, 2, 9],\n",
       "         [9, 5, 1, 0, 0]],\n",
       "\n",
       "        [[9, 1, 1, 5, 3],\n",
       "         [2, 0, 4, 8, 7],\n",
       "         [1, 4, 9, 3, 6],\n",
       "         [7, 1, 0, 2, 7]]]])"
      ]
     },
     "execution_count": 84,
     "metadata": {},
     "output_type": "execute_result"
    }
   ],
   "source": [
    "a4"
   ]
  },
  {
   "cell_type": "code",
   "execution_count": 85,
   "id": "e9161e5d-79dc-4c48-9be4-ebbc5808a567",
   "metadata": {},
   "outputs": [
    {
     "data": {
      "text/plain": [
       "0"
      ]
     },
     "execution_count": 85,
     "metadata": {},
     "output_type": "execute_result"
    }
   ],
   "source": [
    "np.min(a4)"
   ]
  },
  {
   "cell_type": "code",
   "execution_count": 86,
   "id": "31a85275-f2e8-4083-ac53-062c6ebadc01",
   "metadata": {},
   "outputs": [
    {
     "data": {
      "text/plain": [
       "2.8968253696455752"
      ]
     },
     "execution_count": 86,
     "metadata": {},
     "output_type": "execute_result"
    }
   ],
   "source": [
    "np.std(a4)"
   ]
  },
  {
   "cell_type": "code",
   "execution_count": 87,
   "id": "b9e5c346-ecb9-49de-b720-a60796842394",
   "metadata": {},
   "outputs": [
    {
     "data": {
      "text/plain": [
       "8.391597222222224"
      ]
     },
     "execution_count": 87,
     "metadata": {},
     "output_type": "execute_result"
    }
   ],
   "source": [
    "np.var(a4)"
   ]
  },
  {
   "cell_type": "code",
   "execution_count": 88,
   "id": "6a66f4ea-e53b-4e30-957a-9708b2d1c089",
   "metadata": {},
   "outputs": [
    {
     "data": {
      "text/plain": [
       "8.391597222222224"
      ]
     },
     "execution_count": 88,
     "metadata": {},
     "output_type": "execute_result"
    }
   ],
   "source": [
    "#Standard Deviation = a measure of how spread out a group of numbers\n",
    "# Variance = measure of the average degree to which number is difference\n",
    "# Higher Variance = wider range of numbers\n",
    "# Lower variance = lower range of numbers\n",
    "np.var(a4)"
   ]
  },
  {
   "cell_type": "code",
   "execution_count": 89,
   "id": "d22ede9a-2aef-41b7-8ecd-b7dc2e977b8f",
   "metadata": {},
   "outputs": [
    {
     "data": {
      "text/plain": [
       "2.6666666666666665"
      ]
     },
     "execution_count": 89,
     "metadata": {},
     "output_type": "execute_result"
    }
   ],
   "source": [
    "np.var(a2)"
   ]
  },
  {
   "cell_type": "code",
   "execution_count": 90,
   "id": "bd2aff9b-f5bf-4c0d-a79b-32a4aa6378a1",
   "metadata": {},
   "outputs": [
    {
     "data": {
      "text/plain": [
       "8.391597222222224"
      ]
     },
     "execution_count": 90,
     "metadata": {},
     "output_type": "execute_result"
    }
   ],
   "source": [
    "np.var(a4)"
   ]
  },
  {
   "cell_type": "code",
   "execution_count": 91,
   "id": "93b84409-a5f0-4006-9de5-92904d7373c7",
   "metadata": {},
   "outputs": [
    {
     "data": {
      "text/plain": [
       "2.8968253696455752"
      ]
     },
     "execution_count": 91,
     "metadata": {},
     "output_type": "execute_result"
    }
   ],
   "source": [
    "np.sqrt(np.var(a4))"
   ]
  },
  {
   "cell_type": "code",
   "execution_count": 92,
   "id": "8b27d04c-b869-4833-a4f1-71ec600ba13b",
   "metadata": {},
   "outputs": [
    {
     "data": {
      "text/plain": [
       "2.8968253696455752"
      ]
     },
     "execution_count": 92,
     "metadata": {},
     "output_type": "execute_result"
    }
   ],
   "source": [
    "np.std(a4)"
   ]
  },
  {
   "cell_type": "code",
   "execution_count": 100,
   "id": "f52fc35f-14cf-438a-b08e-91dec3953aba",
   "metadata": {},
   "outputs": [],
   "source": [
    "#Demo od std and var\n",
    "higer_var_array = np.array([1, 100, 200, 300, 4000, 5000])\n",
    "low_var_array = np.array([2, 4, 6, 8, 10, 12])"
   ]
  },
  {
   "cell_type": "code",
   "execution_count": 99,
   "id": "f5395f0c-0eaa-4ec4-a7fa-1c6cb03edbf1",
   "metadata": {},
   "outputs": [
    {
     "data": {
      "text/plain": [
       "(4296133.472222221, 8.0)"
      ]
     },
     "execution_count": 99,
     "metadata": {},
     "output_type": "execute_result"
    }
   ],
   "source": [
    "np.var(higer_var_array), np.var(low_var_array)"
   ]
  },
  {
   "cell_type": "code",
   "execution_count": 95,
   "id": "e8e66864-f8e3-4bd2-a663-6cf027ad3210",
   "metadata": {},
   "outputs": [
    {
     "data": {
      "text/plain": [
       "(2072.711623024829, 3.415650255319866)"
      ]
     },
     "execution_count": 95,
     "metadata": {},
     "output_type": "execute_result"
    }
   ],
   "source": [
    "np.std(higer_var_array), np.std(low_var_array)"
   ]
  },
  {
   "cell_type": "code",
   "execution_count": 97,
   "id": "e7848943-884a-4afe-8372-a36ab4f21cca",
   "metadata": {},
   "outputs": [
    {
     "data": {
      "text/plain": [
       "(2072.711623024829, 3.415650255319866)"
      ]
     },
     "execution_count": 97,
     "metadata": {},
     "output_type": "execute_result"
    }
   ],
   "source": [
    "# Standard Deviation = Square root of variance\n",
    "np.sqrt(np.var(higer_var_array)), np.sqrt(np.var(low_var_array))"
   ]
  },
  {
   "cell_type": "code",
   "execution_count": 101,
   "id": "aeb90d26-0b63-4bf4-90f7-3477521e091c",
   "metadata": {},
   "outputs": [
    {
     "data": {
      "text/plain": [
       "(1600.1666666666667, 7.0)"
      ]
     },
     "execution_count": 101,
     "metadata": {},
     "output_type": "execute_result"
    }
   ],
   "source": [
    "np.mean(higer_var_array), np.mean(low_var_array)"
   ]
  },
  {
   "cell_type": "code",
   "execution_count": 102,
   "id": "2eab15ff-40d8-4089-8f95-8b27c51ff7f6",
   "metadata": {},
   "outputs": [
    {
     "data": {
      "image/png": "[encoded data removed]",
      "text/plain": [
       "<Figure size 640x480 with 1 Axes>"
      ]
     },
     "metadata": {},
     "output_type": "display_data"
    }
   ],
   "source": [
    "%matplotlib inline\n",
    "import matplotlib.pyplot as plt\n",
    "plt.hist(higer_var_array)\n",
    "plt.show()\n"
   ]
  },
  {
   "cell_type": "code",
   "execution_count": 104,
   "id": "b50f4d9f-944e-4e3f-8203-272048f1fa6d",
   "metadata": {},
   "outputs": [
    {
     "data": {
      "image/png": "[encoded data removed]",
      "text/plain": [
       "<Figure size 640x480 with 1 Axes>"
      ]
     },
     "metadata": {},
     "output_type": "display_data"
    }
   ],
   "source": [
    "\n",
    "plt.hist(low_var_array)\n",
    "plt.show()"
   ]
  },
  {
   "cell_type": "markdown",
   "id": "68ca7f92-a1f3-4720-8c83-5f76a5a00473",
   "metadata": {},
   "source": [
    "## Reshape and Transpose"
   ]
  },
  {
   "cell_type": "markdown",
   "id": "e39e3bf8-cddd-4114-a6c4-0ab85f29b907",
   "metadata": {},
   "source": [
    "# Why do we need the Respahe and Transpose:\n",
    "# Most of the data that is fed to the ML alogorithm comes in varios shape and size. To get these data is line with ML algorithms that can be used to in this algorithm for thieir operation"
   ]
  },
  {
   "cell_type": "code",
   "execution_count": 105,
   "id": "ea520161-f601-4568-aa0b-dda738f14601",
   "metadata": {},
   "outputs": [
    {
     "data": {
      "text/plain": [
       "array([4, 6, 8])"
      ]
     },
     "execution_count": 105,
     "metadata": {},
     "output_type": "execute_result"
    }
   ],
   "source": [
    "a2"
   ]
  },
  {
   "cell_type": "code",
   "execution_count": 107,
   "id": "63a81f2b-0ebd-4c75-a891-9d1a8215f890",
   "metadata": {},
   "outputs": [
    {
     "data": {
      "text/plain": [
       "array([[1. , 2. , 3.3],\n",
       "       [4. , 5. , 6.5]])"
      ]
     },
     "execution_count": 107,
     "metadata": {},
     "output_type": "execute_result"
    }
   ],
   "source": [
    "a2 = np.array([[1, 2, 3.3], [4, 5, 6.5]])\n",
    "a2"
   ]
  },
  {
   "cell_type": "code",
   "execution_count": 108,
   "id": "2ee3c844-9f2a-458c-86a7-8aaab2a58c2c",
   "metadata": {},
   "outputs": [
    {
     "data": {
      "text/plain": [
       "(2, 3)"
      ]
     },
     "execution_count": 108,
     "metadata": {},
     "output_type": "execute_result"
    }
   ],
   "source": [
    "a2.shape"
   ]
  },
  {
   "cell_type": "code",
   "execution_count": 109,
   "id": "25a69ef8-e73b-406f-a137-fac33fe23992",
   "metadata": {},
   "outputs": [
    {
     "data": {
      "text/plain": [
       "array([[1, 2, 3],\n",
       "       [3, 3, 3]])"
      ]
     },
     "execution_count": 109,
     "metadata": {},
     "output_type": "execute_result"
    }
   ],
   "source": [
    "a3"
   ]
  },
  {
   "cell_type": "code",
   "execution_count": 110,
   "id": "7459517e-5fd2-4a91-b95d-50f8eede622c",
   "metadata": {},
   "outputs": [],
   "source": [
    "a3 = a4"
   ]
  },
  {
   "cell_type": "code",
   "execution_count": 111,
   "id": "5cfd89df-27fe-44d6-ab09-c62893bbfd94",
   "metadata": {},
   "outputs": [
    {
     "data": {
      "text/plain": [
       "array([[[[1, 9, 5, 9, 1],\n",
       "         [2, 3, 2, 2, 5],\n",
       "         [7, 3, 0, 9, 9],\n",
       "         [3, 4, 5, 3, 0]],\n",
       "\n",
       "        [[4, 8, 6, 7, 2],\n",
       "         [7, 3, 8, 6, 6],\n",
       "         [5, 6, 5, 7, 1],\n",
       "         [5, 4, 4, 9, 9]],\n",
       "\n",
       "        [[0, 6, 2, 6, 8],\n",
       "         [2, 4, 1, 6, 1],\n",
       "         [5, 1, 6, 9, 8],\n",
       "         [6, 5, 9, 7, 5]]],\n",
       "\n",
       "\n",
       "       [[[4, 9, 6, 8, 1],\n",
       "         [5, 5, 8, 3, 7],\n",
       "         [7, 9, 4, 7, 5],\n",
       "         [9, 6, 2, 0, 5]],\n",
       "\n",
       "        [[3, 0, 5, 7, 1],\n",
       "         [8, 4, 9, 0, 2],\n",
       "         [0, 7, 6, 2, 9],\n",
       "         [9, 5, 1, 0, 0]],\n",
       "\n",
       "        [[9, 1, 1, 5, 3],\n",
       "         [2, 0, 4, 8, 7],\n",
       "         [1, 4, 9, 3, 6],\n",
       "         [7, 1, 0, 2, 7]]]])"
      ]
     },
     "execution_count": 111,
     "metadata": {},
     "output_type": "execute_result"
    }
   ],
   "source": [
    "a3"
   ]
  },
  {
   "cell_type": "code",
   "execution_count": 112,
   "id": "d07e5a89-e8bb-4052-af4b-966153633a96",
   "metadata": {},
   "outputs": [
    {
     "data": {
      "text/plain": [
       "(2, 3, 4, 5)"
      ]
     },
     "execution_count": 112,
     "metadata": {},
     "output_type": "execute_result"
    }
   ],
   "source": [
    "a3.shape"
   ]
  },
  {
   "cell_type": "code",
   "execution_count": 113,
   "id": "dfbdbf01-b56c-4b32-ab93-eac53bcfe3c8",
   "metadata": {},
   "outputs": [
    {
     "data": {
      "text/plain": [
       "array([[[1. ],\n",
       "        [2. ],\n",
       "        [3.3]],\n",
       "\n",
       "       [[4. ],\n",
       "        [5. ],\n",
       "        [6.5]]])"
      ]
     },
     "execution_count": 113,
     "metadata": {},
     "output_type": "execute_result"
    }
   ],
   "source": [
    "a2.reshape(2,3,1)"
   ]
  },
  {
   "cell_type": "code",
   "execution_count": 114,
   "id": "9f75c5eb-91e3-4462-8491-391dd47d2e95",
   "metadata": {},
   "outputs": [
    {
     "data": {
      "text/plain": [
       "array([[1. , 2. , 3.3],\n",
       "       [4. , 5. , 6.5]])"
      ]
     },
     "execution_count": 114,
     "metadata": {},
     "output_type": "execute_result"
    }
   ],
   "source": [
    "a2"
   ]
  },
  {
   "cell_type": "code",
   "execution_count": 116,
   "id": "af507c61-06e4-4978-8405-44c2514a309d",
   "metadata": {},
   "outputs": [
    {
     "data": {
      "text/plain": [
       "array([[[1. ],\n",
       "        [2. ]],\n",
       "\n",
       "       [[3.3],\n",
       "        [4. ]],\n",
       "\n",
       "       [[5. ],\n",
       "        [6.5]]])"
      ]
     },
     "execution_count": 116,
     "metadata": {},
     "output_type": "execute_result"
    }
   ],
   "source": [
    "a2.reshape(3,2,1)"
   ]
  },
  {
   "cell_type": "code",
   "execution_count": 124,
   "id": "4b5c91f3-0a99-4ff7-a3ed-df37266cc4f9",
   "metadata": {},
   "outputs": [
    {
     "ename": "TypeError",
     "evalue": "'numpy.ndarray' object is not callable",
     "output_type": "error",
     "traceback": [
      "\u001b[1;31m---------------------------------------------------------------------------\u001b[0m",
      "\u001b[1;31mTypeError\u001b[0m                                 Traceback (most recent call last)",
      "Cell \u001b[1;32mIn[124], line 1\u001b[0m\n\u001b[1;32m----> 1\u001b[0m a3(\u001b[38;5;241m6\u001b[39m, \u001b[38;5;241m4\u001b[39m,\u001b[38;5;241m5\u001b[39m)\u001b[38;5;241m*\u001b[39ma2\u001b[38;5;241m.\u001b[39mreshape(\u001b[38;5;241m6\u001b[39m, \u001b[38;5;241m1\u001b[39m, \u001b[38;5;241m1\u001b[39m)\n",
      "\u001b[1;31mTypeError\u001b[0m: 'numpy.ndarray' object is not callable"
     ]
    }
   ],
   "source": [
    "a3(6, 4,5)*a2.reshape(6, 1, 1)"
   ]
  },
  {
   "cell_type": "code",
   "execution_count": 121,
   "id": "b4594f92-e45a-4f7f-b700-0d269814f0e4",
   "metadata": {},
   "outputs": [
    {
     "data": {
      "text/plain": [
       "(2, 3, 4, 5)"
      ]
     },
     "execution_count": 121,
     "metadata": {},
     "output_type": "execute_result"
    }
   ],
   "source": [
    "a3.shape"
   ]
  },
  {
   "cell_type": "code",
   "execution_count": 128,
   "id": "e558e198-3511-4b96-b14a-90c80377276a",
   "metadata": {},
   "outputs": [],
   "source": [
    "a5 = np.array([\n",
    "        [[1, 9, 5],\n",
    "         [2, 3, 2],\n",
    "         [7, 3, 0]],\n",
    "\n",
    "        [[4, 8, 6],\n",
    "         [7, 3, 8],\n",
    "         [5, 6, 5]\n",
    "         ]])\n"
   ]
  },
  {
   "cell_type": "code",
   "execution_count": 129,
   "id": "e2283bf2-2cff-4ed4-baa2-20ba7374c59f",
   "metadata": {},
   "outputs": [
    {
     "data": {
      "text/plain": [
       "(2, 3, 3)"
      ]
     },
     "execution_count": 129,
     "metadata": {},
     "output_type": "execute_result"
    }
   ],
   "source": [
    "a5.shape"
   ]
  },
  {
   "cell_type": "code",
   "execution_count": 132,
   "id": "ee0ac51c-b1a0-455a-a720-2c4a0eb074d1",
   "metadata": {},
   "outputs": [
    {
     "data": {
      "text/plain": [
       "(2, 3)"
      ]
     },
     "execution_count": 132,
     "metadata": {},
     "output_type": "execute_result"
    }
   ],
   "source": [
    "a2.shape"
   ]
  },
  {
   "cell_type": "code",
   "execution_count": 141,
   "id": "0dce0dff-9616-4e48-b06c-998bb70f0589",
   "metadata": {},
   "outputs": [
    {
     "data": {
      "text/plain": [
       "array([[[ 1. ,  9. ,  5. ],\n",
       "        [ 4. ,  6. ,  4. ],\n",
       "        [23.1,  9.9,  0. ]],\n",
       "\n",
       "       [[16. , 32. , 24. ],\n",
       "        [35. , 15. , 40. ],\n",
       "        [32.5, 39. , 32.5]]])"
      ]
     },
     "execution_count": 141,
     "metadata": {},
     "output_type": "execute_result"
    }
   ],
   "source": [
    "a6 = a2.reshape(2,3,1) *a5\n",
    "a6"
   ]
  },
  {
   "cell_type": "markdown",
   "id": "61b409a0-2fe3-4913-a9d4-87fbb55c88ba",
   "metadata": {},
   "source": [
    "## Transpose"
   ]
  },
  {
   "cell_type": "code",
   "execution_count": 137,
   "id": "41e789bf-4908-4438-b557-64901fb3ff68",
   "metadata": {},
   "outputs": [
    {
     "data": {
      "text/plain": [
       "array([[1. , 4. ],\n",
       "       [2. , 5. ],\n",
       "       [3.3, 6.5]])"
      ]
     },
     "execution_count": 137,
     "metadata": {},
     "output_type": "execute_result"
    }
   ],
   "source": [
    "# Tranpose = Swaps the axis\n",
    "a2.T"
   ]
  },
  {
   "cell_type": "code",
   "execution_count": 138,
   "id": "56bfc928-221b-49ae-8cb0-54a301ce97bc",
   "metadata": {},
   "outputs": [
    {
     "data": {
      "text/plain": [
       "((3, 2), (2, 3))"
      ]
     },
     "execution_count": 138,
     "metadata": {},
     "output_type": "execute_result"
    }
   ],
   "source": [
    "a2.T.shape, a2.shape"
   ]
  },
  {
   "cell_type": "code",
   "execution_count": 142,
   "id": "b53a482c-e017-4d21-baff-5599392abcae",
   "metadata": {},
   "outputs": [
    {
     "data": {
      "text/plain": [
       "array([[[ 1. , 16. ],\n",
       "        [ 4. , 35. ],\n",
       "        [23.1, 32.5]],\n",
       "\n",
       "       [[ 9. , 32. ],\n",
       "        [ 6. , 15. ],\n",
       "        [ 9.9, 39. ]],\n",
       "\n",
       "       [[ 5. , 24. ],\n",
       "        [ 4. , 40. ],\n",
       "        [ 0. , 32.5]]])"
      ]
     },
     "execution_count": 142,
     "metadata": {},
     "output_type": "execute_result"
    }
   ],
   "source": [
    "a6.T\n"
   ]
  },
  {
   "cell_type": "code",
   "execution_count": 143,
   "id": "6dbfbc79-b554-4ad3-815c-3595a87ed3c8",
   "metadata": {},
   "outputs": [
    {
     "data": {
      "text/plain": [
       "((2, 3, 3), (3, 3, 2))"
      ]
     },
     "execution_count": 143,
     "metadata": {},
     "output_type": "execute_result"
    }
   ],
   "source": [
    "a6.shape, a6.T.shape"
   ]
  },
  {
   "cell_type": "markdown",
   "id": "e3f025b9-eed4-4e6d-a478-5f984318b71a",
   "metadata": {},
   "source": [
    "## Dot Product vs Elementwise"
   ]
  },
  {
   "cell_type": "code",
   "execution_count": 151,
   "id": "0ca407b7-a93d-45ef-9c8d-a6c805a8f409",
   "metadata": {},
   "outputs": [],
   "source": [
    "np.random.seed(0)\n",
    "mat1 = np.random.randint(10, size=(5,3))\n",
    "mat2 = np.random.randint(10, size=(5,3))\n"
   ]
  },
  {
   "cell_type": "code",
   "execution_count": 152,
   "id": "68908feb-30b7-4897-b443-72b0edd2ba0d",
   "metadata": {},
   "outputs": [
    {
     "data": {
      "text/plain": [
       "(array([[5, 0, 3],\n",
       "        [3, 7, 9],\n",
       "        [3, 5, 2],\n",
       "        [4, 7, 6],\n",
       "        [8, 8, 1]]),\n",
       " array([[6, 7, 7],\n",
       "        [8, 1, 5],\n",
       "        [9, 8, 9],\n",
       "        [4, 3, 0],\n",
       "        [3, 5, 0]]))"
      ]
     },
     "execution_count": 152,
     "metadata": {},
     "output_type": "execute_result"
    }
   ],
   "source": [
    "mat1, mat2"
   ]
  },
  {
   "cell_type": "code",
   "execution_count": 155,
   "id": "8d4ba337-a49d-4476-84b8-57843649ac59",
   "metadata": {},
   "outputs": [
    {
     "data": {
      "text/plain": [
       "array([[30,  0, 21],\n",
       "       [24,  7, 45],\n",
       "       [27, 40, 18],\n",
       "       [16, 21,  0],\n",
       "       [24, 40,  0]])"
      ]
     },
     "execution_count": 155,
     "metadata": {},
     "output_type": "execute_result"
    }
   ],
   "source": [
    "# Element-wise multiplication (Hadamard Product)\n",
    "mat1 * mat2"
   ]
  },
  {
   "cell_type": "code",
   "execution_count": 160,
   "id": "79ae699d-ab96-43fc-ae7c-27c9a1d9ee05",
   "metadata": {},
   "outputs": [
    {
     "data": {
      "text/plain": [
       "array([[ 51,  55,  72,  20,  15],\n",
       "       [130,  76, 164,  33,  44],\n",
       "       [ 67,  39,  85,  27,  34],\n",
       "       [115,  69, 146,  37,  47],\n",
       "       [111,  77, 145,  56,  64]])"
      ]
     },
     "execution_count": 160,
     "metadata": {},
     "output_type": "execute_result"
    }
   ],
   "source": [
    "np.dot(mat1, mat2.T)"
   ]
  },
  {
   "cell_type": "markdown",
   "id": "5ad70f91-a96e-40ca-b166-6d6238b3390e",
   "metadata": {},
   "source": [
    "## Exercise Nut Butter Sales"
   ]
  },
  {
   "cell_type": "code",
   "execution_count": 163,
   "id": "845a81c4-da7f-4492-bb37-ea4b7c9215be",
   "metadata": {},
   "outputs": [],
   "source": [
    "sales_days = np.array([[2,7, 1],[9,4,16],[11,14,18],[13,13,16],[15,18,9]]).astype(int)"
   ]
  },
  {
   "cell_type": "code",
   "execution_count": 164,
   "id": "e0e3b3c4-59f0-4e24-aab3-65886c8d475b",
   "metadata": {},
   "outputs": [
    {
     "data": {
      "text/plain": [
       "array([[ 2,  7,  1],\n",
       "       [ 9,  4, 16],\n",
       "       [11, 14, 18],\n",
       "       [13, 13, 16],\n",
       "       [15, 18,  9]])"
      ]
     },
     "execution_count": 164,
     "metadata": {},
     "output_type": "execute_result"
    }
   ],
   "source": [
    "sales_days"
   ]
  },
  {
   "cell_type": "code",
   "execution_count": 168,
   "id": "9d0713c2-e324-4328-ac72-f354a57c3300",
   "metadata": {},
   "outputs": [
    {
     "data": {
      "text/html": [
       "<div>\n",
       "<style scoped>\n",
       "    .dataframe tbody tr th:only-of-type {\n",
       "        vertical-align: middle;\n",
       "    }\n",
       "\n",
       "    .dataframe tbody tr th {\n",
       "        vertical-align: top;\n",
       "    }\n",
       "\n",
       "    .dataframe thead th {\n",
       "        text-align: right;\n",
       "    }\n",
       "</style>\n",
       "<table border=\"1\" class=\"dataframe\">\n",
       "  <thead>\n",
       "    <tr style=\"text-align: right;\">\n",
       "      <th></th>\n",
       "      <th>Almond butter</th>\n",
       "      <th>Peanut butter</th>\n",
       "      <th>Cashew butter</th>\n",
       "    </tr>\n",
       "  </thead>\n",
       "  <tbody>\n",
       "    <tr>\n",
       "      <th>Mon</th>\n",
       "      <td>2</td>\n",
       "      <td>7</td>\n",
       "      <td>1</td>\n",
       "    </tr>\n",
       "    <tr>\n",
       "      <th>Tue</th>\n",
       "      <td>9</td>\n",
       "      <td>4</td>\n",
       "      <td>16</td>\n",
       "    </tr>\n",
       "    <tr>\n",
       "      <th>Wed</th>\n",
       "      <td>11</td>\n",
       "      <td>14</td>\n",
       "      <td>18</td>\n",
       "    </tr>\n",
       "    <tr>\n",
       "      <th>Thur</th>\n",
       "      <td>13</td>\n",
       "      <td>13</td>\n",
       "      <td>16</td>\n",
       "    </tr>\n",
       "    <tr>\n",
       "      <th>Fri</th>\n",
       "      <td>15</td>\n",
       "      <td>18</td>\n",
       "      <td>9</td>\n",
       "    </tr>\n",
       "  </tbody>\n",
       "</table>\n",
       "</div>"
      ],
      "text/plain": [
       "      Almond butter  Peanut butter  Cashew butter\n",
       "Mon               2              7              1\n",
       "Tue               9              4             16\n",
       "Wed              11             14             18\n",
       "Thur             13             13             16\n",
       "Fri              15             18              9"
      ]
     },
     "execution_count": 168,
     "metadata": {},
     "output_type": "execute_result"
    }
   ],
   "source": [
    "sales_days_df = pd.DataFrame(sales_days, \n",
    "                              index=[\"Mon\", \"Tue\", \"Wed\" ,\"Thur\", \"Fri\"],\n",
    "                              columns=[\"Almond butter\", \"Peanut butter\",\"Cashew butter\"])\n",
    "sales_days_df"
   ]
  },
  {
   "cell_type": "code",
   "execution_count": 178,
   "id": "bab4a052-b9b2-4114-b845-b30e77ec46f0",
   "metadata": {},
   "outputs": [
    {
     "data": {
      "text/html": [
       "<div>\n",
       "<style scoped>\n",
       "    .dataframe tbody tr th:only-of-type {\n",
       "        vertical-align: middle;\n",
       "    }\n",
       "\n",
       "    .dataframe tbody tr th {\n",
       "        vertical-align: top;\n",
       "    }\n",
       "\n",
       "    .dataframe thead th {\n",
       "        text-align: right;\n",
       "    }\n",
       "</style>\n",
       "<table border=\"1\" class=\"dataframe\">\n",
       "  <thead>\n",
       "    <tr style=\"text-align: right;\">\n",
       "      <th></th>\n",
       "      <th>Almond butter</th>\n",
       "      <th>Peanut butter</th>\n",
       "      <th>Cashew butter</th>\n",
       "    </tr>\n",
       "  </thead>\n",
       "  <tbody>\n",
       "    <tr>\n",
       "      <th>Price</th>\n",
       "      <td>10</td>\n",
       "      <td>8</td>\n",
       "      <td>12</td>\n",
       "    </tr>\n",
       "  </tbody>\n",
       "</table>\n",
       "</div>"
      ],
      "text/plain": [
       "       Almond butter  Peanut butter  Cashew butter\n",
       "Price             10              8             12"
      ]
     },
     "execution_count": 178,
     "metadata": {},
     "output_type": "execute_result"
    }
   ],
   "source": [
    "sales = np.array([10, 8, 12]).astype(int)\n",
    "sales_df = pd.DataFrame(sales.reshape(1,3), \n",
    "                       index=[\"Price\"],\n",
    "                      columns=[\"Almond butter\", \"Peanut butter\",\"Cashew butter\"])\n",
    "sales_df"
   ]
  },
  {
   "cell_type": "code",
   "execution_count": 189,
   "id": "92d8aa08-03dd-44de-810e-d89eb7c722e7",
   "metadata": {},
   "outputs": [
    {
     "data": {
      "text/plain": [
       "array([ 88, 314, 438, 426, 402])"
      ]
     },
     "execution_count": 189,
     "metadata": {},
     "output_type": "execute_result"
    }
   ],
   "source": [
    "# Find the Dot product to get the sales taotal per day and grand total for the week sales\n",
    "days_sale = np.dot(sales_days, sales)\n",
    "days_sale"
   ]
  },
  {
   "cell_type": "code",
   "execution_count": 190,
   "id": "40224d45-5d35-41f5-ba85-7caaa47df047",
   "metadata": {},
   "outputs": [
    {
     "data": {
      "text/html": [
       "<div>\n",
       "<style scoped>\n",
       "    .dataframe tbody tr th:only-of-type {\n",
       "        vertical-align: middle;\n",
       "    }\n",
       "\n",
       "    .dataframe tbody tr th {\n",
       "        vertical-align: top;\n",
       "    }\n",
       "\n",
       "    .dataframe thead th {\n",
       "        text-align: right;\n",
       "    }\n",
       "</style>\n",
       "<table border=\"1\" class=\"dataframe\">\n",
       "  <thead>\n",
       "    <tr style=\"text-align: right;\">\n",
       "      <th></th>\n",
       "      <th>Almond butter</th>\n",
       "      <th>Peanut butter</th>\n",
       "      <th>Cashew butter</th>\n",
       "      <th>Total ($)</th>\n",
       "    </tr>\n",
       "  </thead>\n",
       "  <tbody>\n",
       "    <tr>\n",
       "      <th>Mon</th>\n",
       "      <td>2</td>\n",
       "      <td>7</td>\n",
       "      <td>1</td>\n",
       "      <td>88</td>\n",
       "    </tr>\n",
       "    <tr>\n",
       "      <th>Tue</th>\n",
       "      <td>9</td>\n",
       "      <td>4</td>\n",
       "      <td>16</td>\n",
       "      <td>314</td>\n",
       "    </tr>\n",
       "    <tr>\n",
       "      <th>Wed</th>\n",
       "      <td>11</td>\n",
       "      <td>14</td>\n",
       "      <td>18</td>\n",
       "      <td>438</td>\n",
       "    </tr>\n",
       "    <tr>\n",
       "      <th>Thur</th>\n",
       "      <td>13</td>\n",
       "      <td>13</td>\n",
       "      <td>16</td>\n",
       "      <td>426</td>\n",
       "    </tr>\n",
       "    <tr>\n",
       "      <th>Fri</th>\n",
       "      <td>15</td>\n",
       "      <td>18</td>\n",
       "      <td>9</td>\n",
       "      <td>402</td>\n",
       "    </tr>\n",
       "  </tbody>\n",
       "</table>\n",
       "</div>"
      ],
      "text/plain": [
       "      Almond butter  Peanut butter  Cashew butter  Total ($)\n",
       "Mon               2              7              1         88\n",
       "Tue               9              4             16        314\n",
       "Wed              11             14             18        438\n",
       "Thur             13             13             16        426\n",
       "Fri              15             18              9        402"
      ]
     },
     "execution_count": 190,
     "metadata": {},
     "output_type": "execute_result"
    }
   ],
   "source": [
    "sales_days_df[\"Total ($)\"] =  days_sale\n",
    "sales_days_df"
   ]
  },
  {
   "cell_type": "code",
   "execution_count": 191,
   "id": "52d7f52a-4849-43f7-931b-4cde20a2aa9b",
   "metadata": {},
   "outputs": [
    {
     "data": {
      "text/html": [
       "<div>\n",
       "<style scoped>\n",
       "    .dataframe tbody tr th:only-of-type {\n",
       "        vertical-align: middle;\n",
       "    }\n",
       "\n",
       "    .dataframe tbody tr th {\n",
       "        vertical-align: top;\n",
       "    }\n",
       "\n",
       "    .dataframe thead th {\n",
       "        text-align: right;\n",
       "    }\n",
       "</style>\n",
       "<table border=\"1\" class=\"dataframe\">\n",
       "  <thead>\n",
       "    <tr style=\"text-align: right;\">\n",
       "      <th></th>\n",
       "      <th>Almond butter</th>\n",
       "      <th>Peanut butter</th>\n",
       "      <th>Cashew butter</th>\n",
       "    </tr>\n",
       "  </thead>\n",
       "  <tbody>\n",
       "    <tr>\n",
       "      <th>Price</th>\n",
       "      <td>10</td>\n",
       "      <td>8</td>\n",
       "      <td>12</td>\n",
       "    </tr>\n",
       "  </tbody>\n",
       "</table>\n",
       "</div>"
      ],
      "text/plain": [
       "       Almond butter  Peanut butter  Cashew butter\n",
       "Price             10              8             12"
      ]
     },
     "execution_count": 191,
     "metadata": {},
     "output_type": "execute_result"
    }
   ],
   "source": [
    "sales_df"
   ]
  },
  {
   "cell_type": "code",
   "execution_count": 202,
   "id": "2f2e2133-4306-4a4b-abc6-35f0432c3d6b",
   "metadata": {},
   "outputs": [
    {
     "ename": "NameError",
     "evalue": "name 'columns' is not defined",
     "output_type": "error",
     "traceback": [
      "\u001b[1;31m---------------------------------------------------------------------------\u001b[0m",
      "\u001b[1;31mNameError\u001b[0m                                 Traceback (most recent call last)",
      "Cell \u001b[1;32mIn[202], line 4\u001b[0m\n\u001b[0;32m      1\u001b[0m tw \u001b[38;5;241m=\u001b[39m days_sale\u001b[38;5;241m.\u001b[39msum()\n\u001b[0;32m      2\u001b[0m Total_Week \u001b[38;5;241m=\u001b[39m np\u001b[38;5;241m.\u001b[39marray([tw])\n\u001b[0;32m      3\u001b[0m Total_Week_df \u001b[38;5;241m=\u001b[39m pd\u001b[38;5;241m.\u001b[39mDataFrame(Total_Week,\n\u001b[1;32m----> 4\u001b[0m                            columns\u001b[38;5;241m==\u001b[39m[\u001b[38;5;124m\"\u001b[39m\u001b[38;5;124mWeekTotal ($)\u001b[39m\u001b[38;5;124m\"\u001b[39m])\n\u001b[0;32m      5\u001b[0m Total_Week_df\n",
      "\u001b[1;31mNameError\u001b[0m: name 'columns' is not defined"
     ]
    }
   ],
   "source": [
    "tw = days_sale.sum()\n",
    "Total_Week = np.array([tw])\n",
    "Total_Week_df = pd.DataFrame(Total_Week,\n",
    "                           columns==[\"WeekTotal ($)\"])\n",
    "Total_Week_df"
   ]
  },
  {
   "cell_type": "code",
   "execution_count": 198,
   "id": "766a3f50-8577-4598-88f2-78e8881a6b78",
   "metadata": {},
   "outputs": [
    {
     "data": {
      "text/html": [
       "<div>\n",
       "<style scoped>\n",
       "    .dataframe tbody tr th:only-of-type {\n",
       "        vertical-align: middle;\n",
       "    }\n",
       "\n",
       "    .dataframe tbody tr th {\n",
       "        vertical-align: top;\n",
       "    }\n",
       "\n",
       "    .dataframe thead th {\n",
       "        text-align: right;\n",
       "    }\n",
       "</style>\n",
       "<table border=\"1\" class=\"dataframe\">\n",
       "  <thead>\n",
       "    <tr style=\"text-align: right;\">\n",
       "      <th></th>\n",
       "      <th>Almond butter</th>\n",
       "      <th>Peanut butter</th>\n",
       "      <th>Cashew butter</th>\n",
       "      <th>Total ($)</th>\n",
       "    </tr>\n",
       "  </thead>\n",
       "  <tbody>\n",
       "    <tr>\n",
       "      <th>Mon</th>\n",
       "      <td>2</td>\n",
       "      <td>7</td>\n",
       "      <td>1</td>\n",
       "      <td>88</td>\n",
       "    </tr>\n",
       "    <tr>\n",
       "      <th>Tue</th>\n",
       "      <td>9</td>\n",
       "      <td>4</td>\n",
       "      <td>16</td>\n",
       "      <td>314</td>\n",
       "    </tr>\n",
       "    <tr>\n",
       "      <th>Wed</th>\n",
       "      <td>11</td>\n",
       "      <td>14</td>\n",
       "      <td>18</td>\n",
       "      <td>438</td>\n",
       "    </tr>\n",
       "    <tr>\n",
       "      <th>Thur</th>\n",
       "      <td>13</td>\n",
       "      <td>13</td>\n",
       "      <td>16</td>\n",
       "      <td>426</td>\n",
       "    </tr>\n",
       "    <tr>\n",
       "      <th>Fri</th>\n",
       "      <td>15</td>\n",
       "      <td>18</td>\n",
       "      <td>9</td>\n",
       "      <td>402</td>\n",
       "    </tr>\n",
       "  </tbody>\n",
       "</table>\n",
       "</div>"
      ],
      "text/plain": [
       "      Almond butter  Peanut butter  Cashew butter  Total ($)\n",
       "Mon               2              7              1         88\n",
       "Tue               9              4             16        314\n",
       "Wed              11             14             18        438\n",
       "Thur             13             13             16        426\n",
       "Fri              15             18              9        402"
      ]
     },
     "execution_count": 198,
     "metadata": {},
     "output_type": "execute_result"
    }
   ],
   "source": [
    "sales_days_df\n"
   ]
  },
  {
   "cell_type": "code",
   "execution_count": 196,
   "id": "21a67f04-90d2-49eb-a9ad-1e91a2281dad",
   "metadata": {},
   "outputs": [
    {
     "data": {
      "text/html": [
       "<div>\n",
       "<style scoped>\n",
       "    .dataframe tbody tr th:only-of-type {\n",
       "        vertical-align: middle;\n",
       "    }\n",
       "\n",
       "    .dataframe tbody tr th {\n",
       "        vertical-align: top;\n",
       "    }\n",
       "\n",
       "    .dataframe thead th {\n",
       "        text-align: right;\n",
       "    }\n",
       "</style>\n",
       "<table border=\"1\" class=\"dataframe\">\n",
       "  <thead>\n",
       "    <tr style=\"text-align: right;\">\n",
       "      <th></th>\n",
       "      <th>Almond butter</th>\n",
       "      <th>Peanut butter</th>\n",
       "      <th>Cashew butter</th>\n",
       "    </tr>\n",
       "  </thead>\n",
       "  <tbody>\n",
       "    <tr>\n",
       "      <th>Price</th>\n",
       "      <td>10</td>\n",
       "      <td>8</td>\n",
       "      <td>12</td>\n",
       "    </tr>\n",
       "  </tbody>\n",
       "</table>\n",
       "</div>"
      ],
      "text/plain": [
       "       Almond butter  Peanut butter  Cashew butter\n",
       "Price             10              8             12"
      ]
     },
     "execution_count": 196,
     "metadata": {},
     "output_type": "execute_result"
    }
   ],
   "source": [
    "sales_df"
   ]
  },
  {
   "cell_type": "code",
   "execution_count": null,
   "id": "176e5073-9745-4da9-83cf-fd983adc89f2",
   "metadata": {},
   "outputs": [],
   "source": [
    "Total_Week"
   ]
  }
 ],
 "metadata": {
  "kernelspec": {
   "display_name": "Python 3 (ipykernel)",
   "language": "python",
   "name": "python3"
  },
  "language_info": {
   "codemirror_mode": {
    "name": "ipython",
    "version": 3
   },
   "file_extension": ".py",
   "mimetype": "text/x-python",
   "name": "python",
   "nbconvert_exporter": "python",
   "pygments_lexer": "ipython3",
   "version": "3.12.7"
  }
 },
 "nbformat": 4,
 "nbformat_minor": 5
}
