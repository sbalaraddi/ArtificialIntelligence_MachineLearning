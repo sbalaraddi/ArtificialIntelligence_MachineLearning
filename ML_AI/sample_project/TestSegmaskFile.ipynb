{
 "cells": [
  {
   "cell_type": "code",
   "execution_count": 1,
   "id": "4c2895d6-d402-4883-898d-508e59f85b1b",
   "metadata": {},
   "outputs": [
    {
     "name": "stderr",
     "output_type": "stream",
     "text": [
      "<>:5: SyntaxWarning: invalid escape sequence '\\c'\n",
      "<>:5: SyntaxWarning: invalid escape sequence '\\c'\n",
      "C:\\Users\\balars2\\AppData\\Local\\Temp\\ipykernel_10244\\1440450530.py:5: SyntaxWarning: invalid escape sequence '\\c'\n",
      "  segmask = cv2.imread(\"CT-1\\c384041d-12c3-44c0-8c9a-b79d302a56eb.segmask\", cv2.IMREAD_GRAYSCALE)  # Load as grayscale\n",
      "C:\\Users\\balars2\\AppData\\Local\\Temp\\ipykernel_10244\\1440450530.py:5: SyntaxWarning: invalid escape sequence '\\c'\n",
      "  segmask = cv2.imread(\"CT-1\\c384041d-12c3-44c0-8c9a-b79d302a56eb.segmask\", cv2.IMREAD_GRAYSCALE)  # Load as grayscale\n"
     ]
    },
    {
     "ename": "ModuleNotFoundError",
     "evalue": "No module named 'cv2'",
     "output_type": "error",
     "traceback": [
      "\u001b[1;31m---------------------------------------------------------------------------\u001b[0m",
      "\u001b[1;31mModuleNotFoundError\u001b[0m                       Traceback (most recent call last)",
      "Cell \u001b[1;32mIn[1], line 1\u001b[0m\n\u001b[1;32m----> 1\u001b[0m \u001b[38;5;28;01mimport\u001b[39;00m \u001b[38;5;21;01mcv2\u001b[39;00m\n\u001b[0;32m      2\u001b[0m \u001b[38;5;28;01mimport\u001b[39;00m \u001b[38;5;21;01mmatplotlib\u001b[39;00m\u001b[38;5;21;01m.\u001b[39;00m\u001b[38;5;21;01mpyplot\u001b[39;00m \u001b[38;5;28;01mas\u001b[39;00m \u001b[38;5;21;01mplt\u001b[39;00m\n\u001b[0;32m      4\u001b[0m \u001b[38;5;66;03m# Read the segmentation mask\u001b[39;00m\n",
      "\u001b[1;31mModuleNotFoundError\u001b[0m: No module named 'cv2'"
     ]
    }
   ],
   "source": [
    "import cv2\n",
    "import matplotlib.pyplot as plt\n",
    "\n",
    "# Read the segmentation mask\n",
    "segmask = cv2.imread(\"c384041d-12c3-44c0-8c9a-b79d302a56eb.segmask\", cv2.IMREAD_GRAYSCALE)  # Load as grayscale\n",
    "\n",
    "# Check if the file was loaded correctly\n",
    "if segmask is None:\n",
    "    print(\"Failed to load the file.\")\n",
    "else:\n",
    "    print(\"File loaded successfully. Shape:\", segmask.shape)\n",
    "    # Display the mask\n",
    "    plt.imshow(segmask, cmap='gray')\n",
    "    plt.title(\"Segmentation Mask\")\n",
    "    plt.show()\n"
   ]
  },
  {
   "cell_type": "code",
   "execution_count": 1,
   "id": "b812f361-6ce2-4ddd-bb13-22c0d157495c",
   "metadata": {},
   "outputs": [
    {
     "name": "stdout",
     "output_type": "stream",
     "text": [
      "Collecting opencv-python\n",
      "  Using cached opencv_python-4.10.0.84-cp37-abi3-win_amd64.whl.metadata (20 kB)\n",
      "Requirement already satisfied: numpy>=1.21.2 in c:\\learning\\ml_ai\\sample_project\\env\\lib\\site-packages (from opencv-python) (1.26.4)\n",
      "Using cached opencv_python-4.10.0.84-cp37-abi3-win_amd64.whl (38.8 MB)\n",
      "Installing collected packages: opencv-python\n",
      "Successfully installed opencv-python-4.10.0.84\n"
     ]
    }
   ],
   "source": [
    "!pip install opencv-python"
   ]
  },
  {
   "cell_type": "code",
   "execution_count": 2,
   "id": "d5e529dc-2d7a-461f-8b4b-d54ec12a0568",
   "metadata": {},
   "outputs": [
    {
     "name": "stdout",
     "output_type": "stream",
     "text": [
      "Collecting opencv-python-headless\n",
      "  Using cached opencv_python_headless-4.10.0.84-cp37-abi3-win_amd64.whl.metadata (20 kB)\n",
      "Requirement already satisfied: numpy>=1.21.2 in c:\\learning\\ml_ai\\sample_project\\env\\lib\\site-packages (from opencv-python-headless) (1.26.4)\n",
      "Using cached opencv_python_headless-4.10.0.84-cp37-abi3-win_amd64.whl (38.8 MB)\n",
      "Installing collected packages: opencv-python-headless\n",
      "Successfully installed opencv-python-headless-4.10.0.84\n"
     ]
    }
   ],
   "source": [
    "!pip install opencv-python-headless"
   ]
  },
  {
   "cell_type": "code",
   "execution_count": 3,
   "id": "24b42469-4358-45a0-8c7a-4467c543b145",
   "metadata": {},
   "outputs": [
    {
     "name": "stdout",
     "output_type": "stream",
     "text": [
      "4.10.0\n"
     ]
    }
   ],
   "source": [
    "import cv2\n",
    "print(cv2.__version__)"
   ]
  },
  {
   "cell_type": "code",
   "execution_count": 4,
   "id": "3dc3dbf3-52e0-482d-8848-3a1f77ea7d70",
   "metadata": {},
   "outputs": [
    {
     "name": "stderr",
     "output_type": "stream",
     "text": [
      "'which' is not recognized as an internal or external command,\n",
      "operable program or batch file.\n"
     ]
    }
   ],
   "source": [
    "!which python"
   ]
  },
  {
   "cell_type": "code",
   "execution_count": 5,
   "id": "3ddf7b5b-3511-492c-810a-f9028d84f1d5",
   "metadata": {},
   "outputs": [
    {
     "ename": "SyntaxError",
     "evalue": "invalid syntax (1722139382.py, line 1)",
     "output_type": "error",
     "traceback": [
      "\u001b[1;36m  Cell \u001b[1;32mIn[5], line 1\u001b[1;36m\u001b[0m\n\u001b[1;33m    which python\u001b[0m\n\u001b[1;37m          ^\u001b[0m\n\u001b[1;31mSyntaxError\u001b[0m\u001b[1;31m:\u001b[0m invalid syntax\n"
     ]
    }
   ],
   "source": [
    "which python"
   ]
  },
  {
   "cell_type": "code",
   "execution_count": 6,
   "id": "6d841c98-cd8c-4440-93f1-6abf151d9493",
   "metadata": {},
   "outputs": [
    {
     "name": "stdout",
     "output_type": "stream",
     "text": [
      "Failed to load the file.\n"
     ]
    }
   ],
   "source": [
    "import cv2\n",
    "import matplotlib.pyplot as plt\n",
    "\n",
    "# Read the segmentation mask\n",
    "segmask = cv2.imread(\"c384041d-12c3-44c0-8c9a-b79d302a56eb.segmask\", cv2.IMREAD_GRAYSCALE)  # Load as grayscale\n",
    "\n",
    "# Check if the file was loaded correctly\n",
    "if segmask is None:\n",
    "    print(\"Failed to load the file.\")\n",
    "else:\n",
    "    print(\"File loaded successfully. Shape:\", segmask.shape)\n",
    "    # Display the mask\n",
    "    plt.imshow(segmask, cmap='gray')\n",
    "    plt.title(\"Segmentation Mask\")\n",
    "    plt.show()"
   ]
  },
  {
   "cell_type": "code",
   "execution_count": 7,
   "id": "86118bc0-dde8-4591-b141-41850faf6d01",
   "metadata": {},
   "outputs": [
    {
     "name": "stdout",
     "output_type": "stream",
     "text": [
      "File loaded successfully. Shape: (1, 1)\n"
     ]
    }
   ],
   "source": [
    "import pandas as pd\n",
    "\n",
    "try:\n",
    "    segmask = pd.read_csv(\"c384041d-12c3-44c0-8c9a-b79d302a56eb.segmask\", header=None)  # No header assumed\n",
    "    print(\"File loaded successfully. Shape:\", segmask.shape)\n",
    "except Exception as e:\n",
    "    print(f\"Failed to load file as CSV: {e}\")"
   ]
  },
  {
   "cell_type": "code",
   "execution_count": 9,
   "id": "5f8858cd-a279-47e1-8c15-44bc3a3dc500",
   "metadata": {},
   "outputs": [
    {
     "name": "stdout",
     "output_type": "stream",
     "text": [
      "Unique values in segmentation mask: [nan]\n"
     ]
    }
   ],
   "source": [
    "# For numpy arrays\n",
    "import numpy as np\n",
    "unique_values = np.unique(segmask)\n",
    "print(\"Unique values in segmentation mask:\", unique_values)"
   ]
  },
  {
   "cell_type": "code",
   "execution_count": 10,
   "id": "3780418b-8ef8-4369-9e8e-928a9478d27c",
   "metadata": {},
   "outputs": [
    {
     "data": {
      "image/png": "[encoded data removed]",
      "text/plain": [
       "<Figure size 640x480 with 2 Axes>"
      ]
     },
     "metadata": {},
     "output_type": "display_data"
    }
   ],
   "source": [
    "import matplotlib.pyplot as plt\n",
    "\n",
    "plt.imshow(segmask, cmap='gray')  # Or another colormap if classes are represented\n",
    "plt.colorbar()\n",
    "plt.title(\"Segmentation Mask\")\n",
    "plt.show()"
   ]
  },
  {
   "cell_type": "code",
   "execution_count": 11,
   "id": "c3cf3fdc-b5a6-4b88-b076-69ded8831848",
   "metadata": {},
   "outputs": [
    {
     "name": "stdout",
     "output_type": "stream",
     "text": [
      "File size: 13125 bytes\n"
     ]
    }
   ],
   "source": [
    "import os\n",
    "file_path = \"c384041d-12c3-44c0-8c9a-b79d302a56eb.segmask\"\n",
    "print(\"File size:\", os.path.getsize(file_path), \"bytes\")"
   ]
  },
  {
   "cell_type": "code",
   "execution_count": 12,
   "id": "bdb1fe0e-834d-4630-afe5-1ded47851e64",
   "metadata": {},
   "outputs": [
    {
     "name": "stdout",
     "output_type": "stream",
     "text": [
      "Failed to load the file as an image.\n"
     ]
    }
   ],
   "source": [
    "import cv2\n",
    "import numpy as np\n",
    "\n",
    "# Try reading as an image file\n",
    "segmask = cv2.imread(\"c384041d-12c3-44c0-8c9a-b79d302a56eb.segmask\", cv2.IMREAD_GRAYSCALE)\n",
    "if segmask is not None:\n",
    "    print(\"Successfully loaded the segmentation mask.\")\n",
    "    print(\"Unique values:\", np.unique(segmask))\n",
    "else:\n",
    "    print(\"Failed to load the file as an image.\")"
   ]
  },
  {
   "cell_type": "code",
   "execution_count": 15,
   "id": "35008dd8-a58d-42b4-a049-f56c96f102c7",
   "metadata": {},
   "outputs": [
    {
     "name": "stdout",
     "output_type": "stream",
     "text": [
      "Error reshaping or loading data: cannot reshape array of size 13125 into shape (512,512)\n"
     ]
    }
   ],
   "source": [
    "import numpy as np\n",
    "\n",
    "# Assuming expected dtype and shape\n",
    "try:\n",
    "    segmask = np.fromfile(\"c384041d-12c3-44c0-8c9a-b79d302a56eb.segmask\", dtype=np.uint8).reshape((512, 512))  # Adjust shape as needed\n",
    "    print(\"Unique values:\", np.unique(segmask))\n",
    "except ValueError as e:\n",
    "    print(\"Error reshaping or loading data:\", e)"
   ]
  },
  {
   "cell_type": "code",
   "execution_count": 17,
   "id": "3033ac7a-a29d-48f3-a764-3a93d1f5b369",
   "metadata": {},
   "outputs": [
    {
     "name": "stdout",
     "output_type": "stream",
     "text": [
      "Error reshaping or loading data: cannot reshape array of size 13125 into shape (8,8)\n"
     ]
    }
   ],
   "source": [
    "import numpy as np\n",
    "\n",
    "# Assuming expected dtype and shape\n",
    "try:\n",
    "    segmask = np.fromfile(\"c384041d-12c3-44c0-8c9a-b79d302a56eb.segmask\", dtype=np.uint8).reshape((8, 8))  # Adjust shape as needed\n",
    "    print(\"Unique values:\", np.unique(segmask))\n",
    "except ValueError as e:\n",
    "    print(\"Error reshaping or loading data:\", e)"
   ]
  },
  {
   "cell_type": "code",
   "execution_count": null,
   "id": "44095d50-50d1-4290-8466-3919731d458f",
   "metadata": {},
   "outputs": [],
   "source": []
  }
 ],
 "metadata": {
  "kernelspec": {
   "display_name": "Python 3 (ipykernel)",
   "language": "python",
   "name": "python3"
  },
  "language_info": {
   "codemirror_mode": {
    "name": "ipython",
    "version": 3
   },
   "file_extension": ".py",
   "mimetype": "text/x-python",
   "name": "python",
   "nbconvert_exporter": "python",
   "pygments_lexer": "ipython3",
   "version": "3.12.7"
  }
 },
 "nbformat": 4,
 "nbformat_minor": 5
}
